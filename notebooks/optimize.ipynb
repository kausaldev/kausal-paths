{
 "cells": [
  {
   "cell_type": "code",
   "execution_count": 63,
   "id": "d6b895a5-614f-48f4-8d3a-168fff782ba7",
   "metadata": {},
   "outputs": [],
   "source": [
    "from __future__ import annotations\n",
    "from typing import TYPE_CHECKING\n",
    "import polars as pl\n",
    "\n",
    "from common.jupyter import get_nodes, plot_node, get_datasets\n",
    "from common import polars as ppl\n",
    "from rich import print\n",
    "import scipy\n",
    "if TYPE_CHECKING:\n",
    "    from nodes.context import Context\n",
    "    from nodes.node import Node\n",
    "    from nodes.actions.shift import ShiftParameterValue\n",
    "    from nodes.metric import DimensionalMetric, DimensionalFlow\n"
   ]
  },
  {
   "cell_type": "code",
   "execution_count": 64,
   "id": "1bf31f38-b91d-4296-81a5-7e547aec8792",
   "metadata": {},
   "outputs": [
    {
     "data": {
      "text/html": [
       "<pre style=\"white-space:pre;overflow-x:auto;line-height:normal;font-family:Menlo,'DejaVu Sans Mono',consolas,'Courier New',monospace\"><span style=\"color: #7fbfbf; text-decoration-color: #7fbfbf\">2023-11-08 01:49:21.296354 </span><span style=\"color: #008000; text-decoration-color: #008000\">DEBUG   </span>   <span style=\"font-weight: bold\">[</span>3ZT327F0PG<span style=\"font-weight: bold\">]</span> Cache initialized                                   <a href=\"file:///home/jey/sync/devel/kausal-paths/common/cache.py#99\" target=\"_blank\"><span style=\"color: #7f7f7f; text-decoration-color: #7f7f7f\">common.cache</span></a>\n",
       "</pre>\n"
      ],
      "text/plain": [
       "\u001b[2;36m2023-11-08 01:49:21.296354\u001b[0m\u001b[2;36m \u001b[0m\u001b[32mDEBUG   \u001b[0m   \u001b[1m[\u001b[0m3ZT327F0PG\u001b[1m]\u001b[0m Cache initialized                                   \u001b]8;id=122455;file:///home/jey/sync/devel/kausal-paths/common/cache.py#99\u001b\\\u001b[2mcommon.cache\u001b[0m\u001b]8;;\u001b\\\n"
      ]
     },
     "metadata": {},
     "output_type": "display_data"
    }
   ],
   "source": [
    "from typing import cast\n",
    "from nodes.actions.action import ActionNode\n",
    "from nodes.constants import YEAR_COLUMN\n",
    "from nodes.datasets import DVCDataset\n",
    "\n",
    "nodes = get_nodes('zuerich')\n",
    "ctx: Context = nodes.context\n",
    "act_nodes = cast(list[ActionNode], [\n",
    "    nodes['fossil_fuel_heater_to_district_heat'],\n",
    "    nodes['fossil_fuel_heater_to_heat_pumps'],\n",
    "    nodes['fossil_fuel_heater_to_other'],\n",
    "])\n",
    "outcome_node: Node = nodes['building_heat_mix']\n",
    "ds = DVCDataset('zuerich/building_heat_mix_goals', tags=[])\n",
    "df = ds.get_copy(ctx)\n",
    "outcome_cols = outcome_node.compute().paths.to_wide(only_category_names=True).metric_cols\n",
    "goal_df = df.paths.to_wide(only_category_names=True)\n",
    "# ensure the columns are in the same order\n",
    "goal_df = goal_df.select(outcome_cols + [YEAR_COLUMN])\n"
   ]
  },
  {
   "cell_type": "code",
   "execution_count": 66,
   "id": "bb5e39b4",
   "metadata": {},
   "outputs": [
    {
     "data": {
      "text/html": [
       "<pre style=\"white-space:pre;overflow-x:auto;line-height:normal;font-family:Menlo,'DejaVu Sans Mono',consolas,'Courier New',monospace\"><span style=\"color: #008080; text-decoration-color: #008080; font-weight: bold\">2025</span>\n",
       "</pre>\n"
      ],
      "text/plain": [
       "\u001b[1;36m2025\u001b[0m\n"
      ]
     },
     "metadata": {},
     "output_type": "display_data"
    },
    {
     "data": {
      "text/html": [
       "<pre style=\"white-space:pre;overflow-x:auto;line-height:normal;font-family:Menlo,'DejaVu Sans Mono',consolas,'Courier New',monospace\">start:\n",
       "<span style=\"font-weight: bold\">[</span><span style=\"color: #008080; text-decoration-color: #008080; font-weight: bold\">-1.1258676411000659</span>, <span style=\"color: #008080; text-decoration-color: #008080; font-weight: bold\">-1.1287019465982544</span>, <span style=\"color: #008080; text-decoration-color: #008080; font-weight: bold\">-1.0161430178604294</span>, <span style=\"color: #008080; text-decoration-color: #008080; font-weight: bold\">-1.1226970661949631</span>, <span style=\"color: #008080; text-decoration-color: #008080; font-weight: bold\">-0.07673651912593314</span>, \n",
       "<span style=\"color: #008080; text-decoration-color: #008080; font-weight: bold\">10.90564858176264</span>, <span style=\"color: #008080; text-decoration-color: #008080; font-weight: bold\">6.99837833118664</span>, <span style=\"color: #008080; text-decoration-color: #008080; font-weight: bold\">-0.10713872448913278</span>, <span style=\"color: #008080; text-decoration-color: #008080; font-weight: bold\">10.819390496002105</span>, <span style=\"color: #008080; text-decoration-color: #008080; font-weight: bold\">3.273168036639447</span><span style=\"font-weight: bold\">]</span>\n",
       "lb:\n",
       "<span style=\"font-weight: bold\">[</span><span style=\"color: #008080; text-decoration-color: #008080; font-weight: bold\">-100</span>, <span style=\"color: #008080; text-decoration-color: #008080; font-weight: bold\">-100</span>, <span style=\"color: #008080; text-decoration-color: #008080; font-weight: bold\">-100</span>, <span style=\"color: #008080; text-decoration-color: #008080; font-weight: bold\">-100</span>, <span style=\"color: #008080; text-decoration-color: #008080; font-weight: bold\">-100</span>, <span style=\"color: #008080; text-decoration-color: #008080; font-weight: bold\">0</span>, <span style=\"color: #008080; text-decoration-color: #008080; font-weight: bold\">0</span>, <span style=\"color: #008080; text-decoration-color: #008080; font-weight: bold\">-100</span>, <span style=\"color: #008080; text-decoration-color: #008080; font-weight: bold\">0</span>, <span style=\"color: #008080; text-decoration-color: #008080; font-weight: bold\">0</span><span style=\"font-weight: bold\">]</span>\n",
       "ub:\n",
       "<span style=\"font-weight: bold\">[</span><span style=\"color: #008080; text-decoration-color: #008080; font-weight: bold\">0</span>, <span style=\"color: #008080; text-decoration-color: #008080; font-weight: bold\">0</span>, <span style=\"color: #008080; text-decoration-color: #008080; font-weight: bold\">0</span>, <span style=\"color: #008080; text-decoration-color: #008080; font-weight: bold\">0</span>, <span style=\"color: #008080; text-decoration-color: #008080; font-weight: bold\">0</span>, <span style=\"color: #008080; text-decoration-color: #008080; font-weight: bold\">17.904026912949277</span>, <span style=\"color: #008080; text-decoration-color: #008080; font-weight: bold\">17.904026912949277</span>, <span style=\"color: #008080; text-decoration-color: #008080; font-weight: bold\">0</span>, <span style=\"color: #008080; text-decoration-color: #008080; font-weight: bold\">14.092558532641553</span>, <span style=\"color: #008080; text-decoration-color: #008080; font-weight: bold\">14.092558532641553</span><span style=\"font-weight: bold\">]</span>\n",
       "\n",
       "</pre>\n"
      ],
      "text/plain": [
       "start:\n",
       "\u001b[1m[\u001b[0m\u001b[1;36m-1.1258676411000659\u001b[0m, \u001b[1;36m-1.1287019465982544\u001b[0m, \u001b[1;36m-1.0161430178604294\u001b[0m, \u001b[1;36m-1.1226970661949631\u001b[0m, \u001b[1;36m-0.07673651912593314\u001b[0m, \n",
       "\u001b[1;36m10.90564858176264\u001b[0m, \u001b[1;36m6.99837833118664\u001b[0m, \u001b[1;36m-0.10713872448913278\u001b[0m, \u001b[1;36m10.819390496002105\u001b[0m, \u001b[1;36m3.273168036639447\u001b[0m\u001b[1m]\u001b[0m\n",
       "lb:\n",
       "\u001b[1m[\u001b[0m\u001b[1;36m-100\u001b[0m, \u001b[1;36m-100\u001b[0m, \u001b[1;36m-100\u001b[0m, \u001b[1;36m-100\u001b[0m, \u001b[1;36m-100\u001b[0m, \u001b[1;36m0\u001b[0m, \u001b[1;36m0\u001b[0m, \u001b[1;36m-100\u001b[0m, \u001b[1;36m0\u001b[0m, \u001b[1;36m0\u001b[0m\u001b[1m]\u001b[0m\n",
       "ub:\n",
       "\u001b[1m[\u001b[0m\u001b[1;36m0\u001b[0m, \u001b[1;36m0\u001b[0m, \u001b[1;36m0\u001b[0m, \u001b[1;36m0\u001b[0m, \u001b[1;36m0\u001b[0m, \u001b[1;36m17.904026912949277\u001b[0m, \u001b[1;36m17.904026912949277\u001b[0m, \u001b[1;36m0\u001b[0m, \u001b[1;36m14.092558532641553\u001b[0m, \u001b[1;36m14.092558532641553\u001b[0m\u001b[1m]\u001b[0m\n",
       "\n"
      ]
     },
     "metadata": {},
     "output_type": "display_data"
    },
    {
     "data": {
      "text/html": [
       "<pre style=\"white-space:pre;overflow-x:auto;line-height:normal;font-family:Menlo,'DejaVu Sans Mono',consolas,'Courier New',monospace\">shape: <span style=\"font-weight: bold\">(</span><span style=\"color: #008080; text-decoration-color: #008080; font-weight: bold\">1</span>, <span style=\"color: #008080; text-decoration-color: #008080; font-weight: bold\">7</span><span style=\"font-weight: bold\">)</span>\n",
       "┌──────────────┬──────────────┬──────────────┬──────────┬──────────────┬──────────────┬────────────┐\n",
       "│ <span style=\"font-weight: bold\">[</span>%<span style=\"font-weight: bold\">]</span> fuel_oil ┆ <span style=\"font-weight: bold\">[</span>%<span style=\"font-weight: bold\">]</span>          ┆ <span style=\"font-weight: bold\">[</span>%<span style=\"font-weight: bold\">]</span> district ┆ <span style=\"font-weight: bold\">[</span>%<span style=\"font-weight: bold\">]</span> wood ┆ <span style=\"font-weight: bold\">[</span>%<span style=\"font-weight: bold\">]</span> solar_co ┆ <span style=\"font-weight: bold\">[</span>%<span style=\"font-weight: bold\">]</span>          ┆ <span style=\"font-weight: bold\">[</span>idx<span style=\"font-weight: bold\">]</span> Year │\n",
       "│ ---          ┆ natural_gas  ┆ _heat        ┆ ---      ┆ llectors     ┆ heat_pumps   ┆ ---        │\n",
       "│ f64          ┆ ---          ┆ ---          ┆ f64      ┆ ---          ┆ ---          ┆ i64        │\n",
       "│              ┆ f64          ┆ f64          ┆          ┆ f64          ┆ f64          ┆            │\n",
       "╞══════════════╪══════════════╪══════════════╪══════════╪══════════════╪══════════════╪════════════╡\n",
       "│ <span style=\"color: #008080; text-decoration-color: #008080; font-weight: bold\">15.6</span>         ┆ <span style=\"color: #008080; text-decoration-color: #008080; font-weight: bold\">46.0</span>         ┆ <span style=\"color: #008080; text-decoration-color: #008080; font-weight: bold\">24.0</span>         ┆ <span style=\"color: #008080; text-decoration-color: #008080; font-weight: bold\">5.0</span>      ┆ <span style=\"color: #008080; text-decoration-color: #008080; font-weight: bold\">0.4</span>          ┆ <span style=\"color: #008080; text-decoration-color: #008080; font-weight: bold\">9.0</span>          ┆ <span style=\"color: #008080; text-decoration-color: #008080; font-weight: bold\">2025</span>       │\n",
       "└──────────────┴──────────────┴──────────────┴──────────┴──────────────┴──────────────┴────────────┘\n",
       "</pre>\n"
      ],
      "text/plain": [
       "shape: \u001b[1m(\u001b[0m\u001b[1;36m1\u001b[0m, \u001b[1;36m7\u001b[0m\u001b[1m)\u001b[0m\n",
       "┌──────────────┬──────────────┬──────────────┬──────────┬──────────────┬──────────────┬────────────┐\n",
       "│ \u001b[1m[\u001b[0m%\u001b[1m]\u001b[0m fuel_oil ┆ \u001b[1m[\u001b[0m%\u001b[1m]\u001b[0m          ┆ \u001b[1m[\u001b[0m%\u001b[1m]\u001b[0m district ┆ \u001b[1m[\u001b[0m%\u001b[1m]\u001b[0m wood ┆ \u001b[1m[\u001b[0m%\u001b[1m]\u001b[0m solar_co ┆ \u001b[1m[\u001b[0m%\u001b[1m]\u001b[0m          ┆ \u001b[1m[\u001b[0midx\u001b[1m]\u001b[0m Year │\n",
       "│ ---          ┆ natural_gas  ┆ _heat        ┆ ---      ┆ llectors     ┆ heat_pumps   ┆ ---        │\n",
       "│ f64          ┆ ---          ┆ ---          ┆ f64      ┆ ---          ┆ ---          ┆ i64        │\n",
       "│              ┆ f64          ┆ f64          ┆          ┆ f64          ┆ f64          ┆            │\n",
       "╞══════════════╪══════════════╪══════════════╪══════════╪══════════════╪══════════════╪════════════╡\n",
       "│ \u001b[1;36m15.6\u001b[0m         ┆ \u001b[1;36m46.0\u001b[0m         ┆ \u001b[1;36m24.0\u001b[0m         ┆ \u001b[1;36m5.0\u001b[0m      ┆ \u001b[1;36m0.4\u001b[0m          ┆ \u001b[1;36m9.0\u001b[0m          ┆ \u001b[1;36m2025\u001b[0m       │\n",
       "└──────────────┴──────────────┴──────────────┴──────────┴──────────────┴──────────────┴────────────┘\n"
      ]
     },
     "metadata": {},
     "output_type": "display_data"
    },
    {
     "data": {
      "text/html": [
       "<pre style=\"white-space:pre;overflow-x:auto;line-height:normal;font-family:Menlo,'DejaVu Sans Mono',consolas,'Courier New',monospace\"><span style=\"color: #7fbfbf; text-decoration-color: #7fbfbf\">2023-11-08 01:54:33.431909 </span><span style=\"color: #008000; text-decoration-color: #008000\">DEBUG   </span>   <span style=\"font-weight: bold\">[</span>3ZT327F0PG<span style=\"font-weight: bold\">]</span> Start execution run                                 <a href=\"file:///home/jey/sync/devel/kausal-paths/common/cache.py#116\" target=\"_blank\"><span style=\"color: #7f7f7f; text-decoration-color: #7f7f7f\">common.cache</span></a>\n",
       "</pre>\n"
      ],
      "text/plain": [
       "\u001b[2;36m2023-11-08 01:54:33.431909\u001b[0m\u001b[2;36m \u001b[0m\u001b[32mDEBUG   \u001b[0m   \u001b[1m[\u001b[0m3ZT327F0PG\u001b[1m]\u001b[0m Start execution run                                 \u001b]8;id=664930;file:///home/jey/sync/devel/kausal-paths/common/cache.py#116\u001b\\\u001b[2mcommon.cache\u001b[0m\u001b]8;;\u001b\\\n"
      ]
     },
     "metadata": {},
     "output_type": "display_data"
    },
    {
     "data": {
      "text/html": [
       "<pre style=\"white-space:pre;overflow-x:auto;line-height:normal;font-family:Menlo,'DejaVu Sans Mono',consolas,'Courier New',monospace\"><span style=\"font-weight: bold\">[</span><span style=\"color: #008080; text-decoration-color: #008080; font-weight: bold\">-0.51</span>, <span style=\"color: #008080; text-decoration-color: #008080; font-weight: bold\">-1.27</span>, <span style=\"color: #008080; text-decoration-color: #008080; font-weight: bold\">-0.59</span>, <span style=\"color: #008080; text-decoration-color: #008080; font-weight: bold\">-1.14</span>, <span style=\"color: #008080; text-decoration-color: #008080; font-weight: bold\">-0.05</span>, <span style=\"color: #008080; text-decoration-color: #008080; font-weight: bold\">16.11</span>, <span style=\"color: #008080; text-decoration-color: #008080; font-weight: bold\">11.88</span>, <span style=\"color: #008080; text-decoration-color: #008080; font-weight: bold\">-0.02</span>, <span style=\"color: #008080; text-decoration-color: #008080; font-weight: bold\">2.5</span>, <span style=\"color: #008080; text-decoration-color: #008080; font-weight: bold\">11.61</span><span style=\"font-weight: bold\">]</span>\n",
       "</pre>\n"
      ],
      "text/plain": [
       "\u001b[1m[\u001b[0m\u001b[1;36m-0.51\u001b[0m, \u001b[1;36m-1.27\u001b[0m, \u001b[1;36m-0.59\u001b[0m, \u001b[1;36m-1.14\u001b[0m, \u001b[1;36m-0.05\u001b[0m, \u001b[1;36m16.11\u001b[0m, \u001b[1;36m11.88\u001b[0m, \u001b[1;36m-0.02\u001b[0m, \u001b[1;36m2.5\u001b[0m, \u001b[1;36m11.61\u001b[0m\u001b[1m]\u001b[0m\n"
      ]
     },
     "metadata": {},
     "output_type": "display_data"
    },
    {
     "data": {
      "text/html": [
       "<pre style=\"white-space:pre;overflow-x:auto;line-height:normal;font-family:Menlo,'DejaVu Sans Mono',consolas,'Courier New',monospace\"><span style=\"color: #7fbfbf; text-decoration-color: #7fbfbf\">2023-11-08 01:54:37.052734 </span><span style=\"color: #008000; text-decoration-color: #008000\">DEBUG   </span>   <span style=\"font-weight: bold\">[</span>3ZT327F0PG<span style=\"font-weight: bold\">]</span> End execution run <span style=\"font-weight: bold\">(</span>computation <span style=\"color: #008080; text-decoration-color: #008080; font-weight: bold\">3620.82</span> ms, <span style=\"color: #008080; text-decoration-color: #008080; font-weight: bold\">145</span>      <a href=\"file:///home/jey/sync/devel/kausal-paths/common/cache.py#149\" target=\"_blank\"><span style=\"color: #7f7f7f; text-decoration-color: #7f7f7f\">common.cache</span></a>\n",
       "<span style=\"color: #7fbfbf; text-decoration-color: #7fbfbf\">                           </span>         reqs; caching <span style=\"color: #008080; text-decoration-color: #008080; font-weight: bold\">0</span> new objects took <span style=\"color: #008080; text-decoration-color: #008080; font-weight: bold\">0.00</span> ms<span style=\"font-weight: bold\">)</span>                          <span style=\"color: #7f7f7f; text-decoration-color: #7f7f7f\">            </span>\n",
       "</pre>\n"
      ],
      "text/plain": [
       "\u001b[2;36m2023-11-08 01:54:37.052734\u001b[0m\u001b[2;36m \u001b[0m\u001b[32mDEBUG   \u001b[0m   \u001b[1m[\u001b[0m3ZT327F0PG\u001b[1m]\u001b[0m End execution run \u001b[1m(\u001b[0mcomputation \u001b[1;36m3620.82\u001b[0m ms, \u001b[1;36m145\u001b[0m      \u001b]8;id=139561;file:///home/jey/sync/devel/kausal-paths/common/cache.py#149\u001b\\\u001b[2mcommon.cache\u001b[0m\u001b]8;;\u001b\\\n",
       "\u001b[2;36m                           \u001b[0m         reqs; caching \u001b[1;36m0\u001b[0m new objects took \u001b[1;36m0.00\u001b[0m ms\u001b[1m)\u001b[0m                          \u001b[2m            \u001b[0m\n"
      ]
     },
     "metadata": {},
     "output_type": "display_data"
    },
    {
     "data": {
      "text/html": [
       "<pre style=\"white-space:pre;overflow-x:auto;line-height:normal;font-family:Menlo,'DejaVu Sans Mono',consolas,'Courier New',monospace\"><span style=\"color: #008080; text-decoration-color: #008080; font-weight: bold\">2030</span>\n",
       "</pre>\n"
      ],
      "text/plain": [
       "\u001b[1;36m2030\u001b[0m\n"
      ]
     },
     "metadata": {},
     "output_type": "display_data"
    },
    {
     "data": {
      "text/html": [
       "<pre style=\"white-space:pre;overflow-x:auto;line-height:normal;font-family:Menlo,'DejaVu Sans Mono',consolas,'Courier New',monospace\">start:\n",
       "<span style=\"font-weight: bold\">[</span><span style=\"color: #008080; text-decoration-color: #008080; font-weight: bold\">-0.51</span>, <span style=\"color: #008080; text-decoration-color: #008080; font-weight: bold\">-1.27</span>, <span style=\"color: #008080; text-decoration-color: #008080; font-weight: bold\">-0.59</span>, <span style=\"color: #008080; text-decoration-color: #008080; font-weight: bold\">-1.14</span>, <span style=\"color: #008080; text-decoration-color: #008080; font-weight: bold\">-0.05</span>, <span style=\"color: #008080; text-decoration-color: #008080; font-weight: bold\">16.11</span>, <span style=\"color: #008080; text-decoration-color: #008080; font-weight: bold\">11.88</span>, <span style=\"color: #008080; text-decoration-color: #008080; font-weight: bold\">-0.02</span>, <span style=\"color: #008080; text-decoration-color: #008080; font-weight: bold\">2.5</span>, <span style=\"color: #008080; text-decoration-color: #008080; font-weight: bold\">11.61</span><span style=\"font-weight: bold\">]</span>\n",
       "lb:\n",
       "<span style=\"font-weight: bold\">[</span><span style=\"color: #008080; text-decoration-color: #008080; font-weight: bold\">-100</span>, <span style=\"color: #008080; text-decoration-color: #008080; font-weight: bold\">-100</span>, <span style=\"color: #008080; text-decoration-color: #008080; font-weight: bold\">-100</span>, <span style=\"color: #008080; text-decoration-color: #008080; font-weight: bold\">-100</span>, <span style=\"color: #008080; text-decoration-color: #008080; font-weight: bold\">-100</span>, <span style=\"color: #008080; text-decoration-color: #008080; font-weight: bold\">0</span>, <span style=\"color: #008080; text-decoration-color: #008080; font-weight: bold\">0</span>, <span style=\"color: #008080; text-decoration-color: #008080; font-weight: bold\">-100</span>, <span style=\"color: #008080; text-decoration-color: #008080; font-weight: bold\">0</span>, <span style=\"color: #008080; text-decoration-color: #008080; font-weight: bold\">0</span><span style=\"font-weight: bold\">]</span>\n",
       "ub:\n",
       "<span style=\"font-weight: bold\">[</span><span style=\"color: #008080; text-decoration-color: #008080; font-weight: bold\">0</span>, <span style=\"color: #008080; text-decoration-color: #008080; font-weight: bold\">0</span>, <span style=\"color: #008080; text-decoration-color: #008080; font-weight: bold\">0</span>, <span style=\"color: #008080; text-decoration-color: #008080; font-weight: bold\">0</span>, <span style=\"color: #008080; text-decoration-color: #008080; font-weight: bold\">0</span>, <span style=\"color: #008080; text-decoration-color: #008080; font-weight: bold\">27.990000000000002</span>, <span style=\"color: #008080; text-decoration-color: #008080; font-weight: bold\">27.990000000000002</span>, <span style=\"color: #008080; text-decoration-color: #008080; font-weight: bold\">0</span>, <span style=\"color: #008080; text-decoration-color: #008080; font-weight: bold\">14.11</span>, <span style=\"color: #008080; text-decoration-color: #008080; font-weight: bold\">14.11</span><span style=\"font-weight: bold\">]</span>\n",
       "\n",
       "</pre>\n"
      ],
      "text/plain": [
       "start:\n",
       "\u001b[1m[\u001b[0m\u001b[1;36m-0.51\u001b[0m, \u001b[1;36m-1.27\u001b[0m, \u001b[1;36m-0.59\u001b[0m, \u001b[1;36m-1.14\u001b[0m, \u001b[1;36m-0.05\u001b[0m, \u001b[1;36m16.11\u001b[0m, \u001b[1;36m11.88\u001b[0m, \u001b[1;36m-0.02\u001b[0m, \u001b[1;36m2.5\u001b[0m, \u001b[1;36m11.61\u001b[0m\u001b[1m]\u001b[0m\n",
       "lb:\n",
       "\u001b[1m[\u001b[0m\u001b[1;36m-100\u001b[0m, \u001b[1;36m-100\u001b[0m, \u001b[1;36m-100\u001b[0m, \u001b[1;36m-100\u001b[0m, \u001b[1;36m-100\u001b[0m, \u001b[1;36m0\u001b[0m, \u001b[1;36m0\u001b[0m, \u001b[1;36m-100\u001b[0m, \u001b[1;36m0\u001b[0m, \u001b[1;36m0\u001b[0m\u001b[1m]\u001b[0m\n",
       "ub:\n",
       "\u001b[1m[\u001b[0m\u001b[1;36m0\u001b[0m, \u001b[1;36m0\u001b[0m, \u001b[1;36m0\u001b[0m, \u001b[1;36m0\u001b[0m, \u001b[1;36m0\u001b[0m, \u001b[1;36m27.990000000000002\u001b[0m, \u001b[1;36m27.990000000000002\u001b[0m, \u001b[1;36m0\u001b[0m, \u001b[1;36m14.11\u001b[0m, \u001b[1;36m14.11\u001b[0m\u001b[1m]\u001b[0m\n",
       "\n"
      ]
     },
     "metadata": {},
     "output_type": "display_data"
    },
    {
     "data": {
      "text/html": [
       "<pre style=\"white-space:pre;overflow-x:auto;line-height:normal;font-family:Menlo,'DejaVu Sans Mono',consolas,'Courier New',monospace\">shape: <span style=\"font-weight: bold\">(</span><span style=\"color: #008080; text-decoration-color: #008080; font-weight: bold\">1</span>, <span style=\"color: #008080; text-decoration-color: #008080; font-weight: bold\">7</span><span style=\"font-weight: bold\">)</span>\n",
       "┌──────────────┬──────────────┬──────────────┬──────────┬──────────────┬──────────────┬────────────┐\n",
       "│ <span style=\"font-weight: bold\">[</span>%<span style=\"font-weight: bold\">]</span> fuel_oil ┆ <span style=\"font-weight: bold\">[</span>%<span style=\"font-weight: bold\">]</span>          ┆ <span style=\"font-weight: bold\">[</span>%<span style=\"font-weight: bold\">]</span> district ┆ <span style=\"font-weight: bold\">[</span>%<span style=\"font-weight: bold\">]</span> wood ┆ <span style=\"font-weight: bold\">[</span>%<span style=\"font-weight: bold\">]</span> solar_co ┆ <span style=\"font-weight: bold\">[</span>%<span style=\"font-weight: bold\">]</span>          ┆ <span style=\"font-weight: bold\">[</span>idx<span style=\"font-weight: bold\">]</span> Year │\n",
       "│ ---          ┆ natural_gas  ┆ _heat        ┆ ---      ┆ llectors     ┆ heat_pumps   ┆ ---        │\n",
       "│ f64          ┆ ---          ┆ ---          ┆ f64      ┆ ---          ┆ ---          ┆ i64        │\n",
       "│              ┆ f64          ┆ f64          ┆          ┆ f64          ┆ f64          ┆            │\n",
       "╞══════════════╪══════════════╪══════════════╪══════════╪══════════════╪══════════════╪════════════╡\n",
       "│ <span style=\"color: #008080; text-decoration-color: #008080; font-weight: bold\">10.1</span>         ┆ <span style=\"color: #008080; text-decoration-color: #008080; font-weight: bold\">33.0</span>         ┆ <span style=\"color: #008080; text-decoration-color: #008080; font-weight: bold\">33.0</span>         ┆ <span style=\"color: #008080; text-decoration-color: #008080; font-weight: bold\">5.3</span>      ┆ <span style=\"color: #008080; text-decoration-color: #008080; font-weight: bold\">0.6</span>          ┆ <span style=\"color: #008080; text-decoration-color: #008080; font-weight: bold\">18.0</span>         ┆ <span style=\"color: #008080; text-decoration-color: #008080; font-weight: bold\">2030</span>       │\n",
       "└──────────────┴──────────────┴──────────────┴──────────┴──────────────┴──────────────┴────────────┘\n",
       "</pre>\n"
      ],
      "text/plain": [
       "shape: \u001b[1m(\u001b[0m\u001b[1;36m1\u001b[0m, \u001b[1;36m7\u001b[0m\u001b[1m)\u001b[0m\n",
       "┌──────────────┬──────────────┬──────────────┬──────────┬──────────────┬──────────────┬────────────┐\n",
       "│ \u001b[1m[\u001b[0m%\u001b[1m]\u001b[0m fuel_oil ┆ \u001b[1m[\u001b[0m%\u001b[1m]\u001b[0m          ┆ \u001b[1m[\u001b[0m%\u001b[1m]\u001b[0m district ┆ \u001b[1m[\u001b[0m%\u001b[1m]\u001b[0m wood ┆ \u001b[1m[\u001b[0m%\u001b[1m]\u001b[0m solar_co ┆ \u001b[1m[\u001b[0m%\u001b[1m]\u001b[0m          ┆ \u001b[1m[\u001b[0midx\u001b[1m]\u001b[0m Year │\n",
       "│ ---          ┆ natural_gas  ┆ _heat        ┆ ---      ┆ llectors     ┆ heat_pumps   ┆ ---        │\n",
       "│ f64          ┆ ---          ┆ ---          ┆ f64      ┆ ---          ┆ ---          ┆ i64        │\n",
       "│              ┆ f64          ┆ f64          ┆          ┆ f64          ┆ f64          ┆            │\n",
       "╞══════════════╪══════════════╪══════════════╪══════════╪══════════════╪══════════════╪════════════╡\n",
       "│ \u001b[1;36m10.1\u001b[0m         ┆ \u001b[1;36m33.0\u001b[0m         ┆ \u001b[1;36m33.0\u001b[0m         ┆ \u001b[1;36m5.3\u001b[0m      ┆ \u001b[1;36m0.6\u001b[0m          ┆ \u001b[1;36m18.0\u001b[0m         ┆ \u001b[1;36m2030\u001b[0m       │\n",
       "└──────────────┴──────────────┴──────────────┴──────────┴──────────────┴──────────────┴────────────┘\n"
      ]
     },
     "metadata": {},
     "output_type": "display_data"
    },
    {
     "data": {
      "text/html": [
       "<pre style=\"white-space:pre;overflow-x:auto;line-height:normal;font-family:Menlo,'DejaVu Sans Mono',consolas,'Courier New',monospace\"><span style=\"color: #7fbfbf; text-decoration-color: #7fbfbf\">2023-11-08 01:54:37.084347 </span><span style=\"color: #008000; text-decoration-color: #008000\">DEBUG   </span>   <span style=\"font-weight: bold\">[</span>3ZT327F0PG<span style=\"font-weight: bold\">]</span> Start execution run                                 <a href=\"file:///home/jey/sync/devel/kausal-paths/common/cache.py#116\" target=\"_blank\"><span style=\"color: #7f7f7f; text-decoration-color: #7f7f7f\">common.cache</span></a>\n",
       "</pre>\n"
      ],
      "text/plain": [
       "\u001b[2;36m2023-11-08 01:54:37.084347\u001b[0m\u001b[2;36m \u001b[0m\u001b[32mDEBUG   \u001b[0m   \u001b[1m[\u001b[0m3ZT327F0PG\u001b[1m]\u001b[0m Start execution run                                 \u001b]8;id=344540;file:///home/jey/sync/devel/kausal-paths/common/cache.py#116\u001b\\\u001b[2mcommon.cache\u001b[0m\u001b]8;;\u001b\\\n"
      ]
     },
     "metadata": {},
     "output_type": "display_data"
    },
    {
     "data": {
      "text/html": [
       "<pre style=\"white-space:pre;overflow-x:auto;line-height:normal;font-family:Menlo,'DejaVu Sans Mono',consolas,'Courier New',monospace\"><span style=\"font-weight: bold\">[</span><span style=\"color: #008080; text-decoration-color: #008080; font-weight: bold\">-0.47</span>, <span style=\"color: #008080; text-decoration-color: #008080; font-weight: bold\">-1.33</span>, <span style=\"color: #008080; text-decoration-color: #008080; font-weight: bold\">-0.55</span>, <span style=\"color: #008080; text-decoration-color: #008080; font-weight: bold\">-1.25</span>, <span style=\"color: #008080; text-decoration-color: #008080; font-weight: bold\">-0.08</span>, <span style=\"color: #008080; text-decoration-color: #008080; font-weight: bold\">17.68</span>, <span style=\"color: #008080; text-decoration-color: #008080; font-weight: bold\">9.35</span>, <span style=\"color: #008080; text-decoration-color: #008080; font-weight: bold\">-0.02</span>, <span style=\"color: #008080; text-decoration-color: #008080; font-weight: bold\">3.78</span>, <span style=\"color: #008080; text-decoration-color: #008080; font-weight: bold\">11.45</span><span style=\"font-weight: bold\">]</span>\n",
       "</pre>\n"
      ],
      "text/plain": [
       "\u001b[1m[\u001b[0m\u001b[1;36m-0.47\u001b[0m, \u001b[1;36m-1.33\u001b[0m, \u001b[1;36m-0.55\u001b[0m, \u001b[1;36m-1.25\u001b[0m, \u001b[1;36m-0.08\u001b[0m, \u001b[1;36m17.68\u001b[0m, \u001b[1;36m9.35\u001b[0m, \u001b[1;36m-0.02\u001b[0m, \u001b[1;36m3.78\u001b[0m, \u001b[1;36m11.45\u001b[0m\u001b[1m]\u001b[0m\n"
      ]
     },
     "metadata": {},
     "output_type": "display_data"
    },
    {
     "data": {
      "text/html": [
       "<pre style=\"white-space:pre;overflow-x:auto;line-height:normal;font-family:Menlo,'DejaVu Sans Mono',consolas,'Courier New',monospace\"><span style=\"color: #7fbfbf; text-decoration-color: #7fbfbf\">2023-11-08 01:54:47.261695 </span><span style=\"color: #008000; text-decoration-color: #008000\">DEBUG   </span>   <span style=\"font-weight: bold\">[</span>3ZT327F0PG<span style=\"font-weight: bold\">]</span> End execution run <span style=\"font-weight: bold\">(</span>computation <span style=\"color: #008080; text-decoration-color: #008080; font-weight: bold\">10177.34</span> ms, <span style=\"color: #008080; text-decoration-color: #008080; font-weight: bold\">410</span>     <a href=\"file:///home/jey/sync/devel/kausal-paths/common/cache.py#149\" target=\"_blank\"><span style=\"color: #7f7f7f; text-decoration-color: #7f7f7f\">common.cache</span></a>\n",
       "<span style=\"color: #7fbfbf; text-decoration-color: #7fbfbf\">                           </span>         reqs; caching <span style=\"color: #008080; text-decoration-color: #008080; font-weight: bold\">0</span> new objects took <span style=\"color: #008080; text-decoration-color: #008080; font-weight: bold\">0.00</span> ms<span style=\"font-weight: bold\">)</span>                          <span style=\"color: #7f7f7f; text-decoration-color: #7f7f7f\">            </span>\n",
       "</pre>\n"
      ],
      "text/plain": [
       "\u001b[2;36m2023-11-08 01:54:47.261695\u001b[0m\u001b[2;36m \u001b[0m\u001b[32mDEBUG   \u001b[0m   \u001b[1m[\u001b[0m3ZT327F0PG\u001b[1m]\u001b[0m End execution run \u001b[1m(\u001b[0mcomputation \u001b[1;36m10177.34\u001b[0m ms, \u001b[1;36m410\u001b[0m     \u001b]8;id=203669;file:///home/jey/sync/devel/kausal-paths/common/cache.py#149\u001b\\\u001b[2mcommon.cache\u001b[0m\u001b]8;;\u001b\\\n",
       "\u001b[2;36m                           \u001b[0m         reqs; caching \u001b[1;36m0\u001b[0m new objects took \u001b[1;36m0.00\u001b[0m ms\u001b[1m)\u001b[0m                          \u001b[2m            \u001b[0m\n"
      ]
     },
     "metadata": {},
     "output_type": "display_data"
    },
    {
     "data": {
      "text/html": [
       "<pre style=\"white-space:pre;overflow-x:auto;line-height:normal;font-family:Menlo,'DejaVu Sans Mono',consolas,'Courier New',monospace\"><span style=\"color: #008080; text-decoration-color: #008080; font-weight: bold\">2035</span>\n",
       "</pre>\n"
      ],
      "text/plain": [
       "\u001b[1;36m2035\u001b[0m\n"
      ]
     },
     "metadata": {},
     "output_type": "display_data"
    },
    {
     "data": {
      "text/html": [
       "<pre style=\"white-space:pre;overflow-x:auto;line-height:normal;font-family:Menlo,'DejaVu Sans Mono',consolas,'Courier New',monospace\">start:\n",
       "<span style=\"font-weight: bold\">[</span><span style=\"color: #008080; text-decoration-color: #008080; font-weight: bold\">-0.47</span>, <span style=\"color: #008080; text-decoration-color: #008080; font-weight: bold\">-1.33</span>, <span style=\"color: #008080; text-decoration-color: #008080; font-weight: bold\">-0.55</span>, <span style=\"color: #008080; text-decoration-color: #008080; font-weight: bold\">-1.25</span>, <span style=\"color: #008080; text-decoration-color: #008080; font-weight: bold\">-0.08</span>, <span style=\"color: #008080; text-decoration-color: #008080; font-weight: bold\">17.68</span>, <span style=\"color: #008080; text-decoration-color: #008080; font-weight: bold\">9.35</span>, <span style=\"color: #008080; text-decoration-color: #008080; font-weight: bold\">-0.02</span>, <span style=\"color: #008080; text-decoration-color: #008080; font-weight: bold\">3.78</span>, <span style=\"color: #008080; text-decoration-color: #008080; font-weight: bold\">11.45</span><span style=\"font-weight: bold\">]</span>\n",
       "lb:\n",
       "<span style=\"font-weight: bold\">[</span><span style=\"color: #008080; text-decoration-color: #008080; font-weight: bold\">-100</span>, <span style=\"color: #008080; text-decoration-color: #008080; font-weight: bold\">-100</span>, <span style=\"color: #008080; text-decoration-color: #008080; font-weight: bold\">-100</span>, <span style=\"color: #008080; text-decoration-color: #008080; font-weight: bold\">-100</span>, <span style=\"color: #008080; text-decoration-color: #008080; font-weight: bold\">-100</span>, <span style=\"color: #008080; text-decoration-color: #008080; font-weight: bold\">0</span>, <span style=\"color: #008080; text-decoration-color: #008080; font-weight: bold\">0</span>, <span style=\"color: #008080; text-decoration-color: #008080; font-weight: bold\">-100</span>, <span style=\"color: #008080; text-decoration-color: #008080; font-weight: bold\">0</span>, <span style=\"color: #008080; text-decoration-color: #008080; font-weight: bold\">0</span><span style=\"font-weight: bold\">]</span>\n",
       "ub:\n",
       "<span style=\"font-weight: bold\">[</span><span style=\"color: #008080; text-decoration-color: #008080; font-weight: bold\">0</span>, <span style=\"color: #008080; text-decoration-color: #008080; font-weight: bold\">0</span>, <span style=\"color: #008080; text-decoration-color: #008080; font-weight: bold\">0</span>, <span style=\"color: #008080; text-decoration-color: #008080; font-weight: bold\">0</span>, <span style=\"color: #008080; text-decoration-color: #008080; font-weight: bold\">0</span>, <span style=\"color: #008080; text-decoration-color: #008080; font-weight: bold\">27.03</span>, <span style=\"color: #008080; text-decoration-color: #008080; font-weight: bold\">27.03</span>, <span style=\"color: #008080; text-decoration-color: #008080; font-weight: bold\">0</span>, <span style=\"color: #008080; text-decoration-color: #008080; font-weight: bold\">15.229999999999999</span>, <span style=\"color: #008080; text-decoration-color: #008080; font-weight: bold\">15.229999999999999</span><span style=\"font-weight: bold\">]</span>\n",
       "\n",
       "</pre>\n"
      ],
      "text/plain": [
       "start:\n",
       "\u001b[1m[\u001b[0m\u001b[1;36m-0.47\u001b[0m, \u001b[1;36m-1.33\u001b[0m, \u001b[1;36m-0.55\u001b[0m, \u001b[1;36m-1.25\u001b[0m, \u001b[1;36m-0.08\u001b[0m, \u001b[1;36m17.68\u001b[0m, \u001b[1;36m9.35\u001b[0m, \u001b[1;36m-0.02\u001b[0m, \u001b[1;36m3.78\u001b[0m, \u001b[1;36m11.45\u001b[0m\u001b[1m]\u001b[0m\n",
       "lb:\n",
       "\u001b[1m[\u001b[0m\u001b[1;36m-100\u001b[0m, \u001b[1;36m-100\u001b[0m, \u001b[1;36m-100\u001b[0m, \u001b[1;36m-100\u001b[0m, \u001b[1;36m-100\u001b[0m, \u001b[1;36m0\u001b[0m, \u001b[1;36m0\u001b[0m, \u001b[1;36m-100\u001b[0m, \u001b[1;36m0\u001b[0m, \u001b[1;36m0\u001b[0m\u001b[1m]\u001b[0m\n",
       "ub:\n",
       "\u001b[1m[\u001b[0m\u001b[1;36m0\u001b[0m, \u001b[1;36m0\u001b[0m, \u001b[1;36m0\u001b[0m, \u001b[1;36m0\u001b[0m, \u001b[1;36m0\u001b[0m, \u001b[1;36m27.03\u001b[0m, \u001b[1;36m27.03\u001b[0m, \u001b[1;36m0\u001b[0m, \u001b[1;36m15.229999999999999\u001b[0m, \u001b[1;36m15.229999999999999\u001b[0m\u001b[1m]\u001b[0m\n",
       "\n"
      ]
     },
     "metadata": {},
     "output_type": "display_data"
    },
    {
     "data": {
      "text/html": [
       "<pre style=\"white-space:pre;overflow-x:auto;line-height:normal;font-family:Menlo,'DejaVu Sans Mono',consolas,'Courier New',monospace\">shape: <span style=\"font-weight: bold\">(</span><span style=\"color: #008080; text-decoration-color: #008080; font-weight: bold\">1</span>, <span style=\"color: #008080; text-decoration-color: #008080; font-weight: bold\">7</span><span style=\"font-weight: bold\">)</span>\n",
       "┌──────────────┬──────────────┬──────────────┬──────────┬──────────────┬──────────────┬────────────┐\n",
       "│ <span style=\"font-weight: bold\">[</span>%<span style=\"font-weight: bold\">]</span> fuel_oil ┆ <span style=\"font-weight: bold\">[</span>%<span style=\"font-weight: bold\">]</span>          ┆ <span style=\"font-weight: bold\">[</span>%<span style=\"font-weight: bold\">]</span> district ┆ <span style=\"font-weight: bold\">[</span>%<span style=\"font-weight: bold\">]</span> wood ┆ <span style=\"font-weight: bold\">[</span>%<span style=\"font-weight: bold\">]</span> solar_co ┆ <span style=\"font-weight: bold\">[</span>%<span style=\"font-weight: bold\">]</span>          ┆ <span style=\"font-weight: bold\">[</span>idx<span style=\"font-weight: bold\">]</span> Year │\n",
       "│ ---          ┆ natural_gas  ┆ _heat        ┆ ---      ┆ llectors     ┆ heat_pumps   ┆ ---        │\n",
       "│ f64          ┆ ---          ┆ ---          ┆ f64      ┆ ---          ┆ ---          ┆ i64        │\n",
       "│              ┆ f64          ┆ f64          ┆          ┆ f64          ┆ f64          ┆            │\n",
       "╞══════════════╪══════════════╪══════════════╪══════════╪══════════════╪══════════════╪════════════╡\n",
       "│ <span style=\"color: #008080; text-decoration-color: #008080; font-weight: bold\">4.6</span>          ┆ <span style=\"color: #008080; text-decoration-color: #008080; font-weight: bold\">21.0</span>         ┆ <span style=\"color: #008080; text-decoration-color: #008080; font-weight: bold\">41.0</span>         ┆ <span style=\"color: #008080; text-decoration-color: #008080; font-weight: bold\">5.6</span>      ┆ <span style=\"color: #008080; text-decoration-color: #008080; font-weight: bold\">0.8</span>          ┆ <span style=\"color: #008080; text-decoration-color: #008080; font-weight: bold\">27.0</span>         ┆ <span style=\"color: #008080; text-decoration-color: #008080; font-weight: bold\">2035</span>       │\n",
       "└──────────────┴──────────────┴──────────────┴──────────┴──────────────┴──────────────┴────────────┘\n",
       "</pre>\n"
      ],
      "text/plain": [
       "shape: \u001b[1m(\u001b[0m\u001b[1;36m1\u001b[0m, \u001b[1;36m7\u001b[0m\u001b[1m)\u001b[0m\n",
       "┌──────────────┬──────────────┬──────────────┬──────────┬──────────────┬──────────────┬────────────┐\n",
       "│ \u001b[1m[\u001b[0m%\u001b[1m]\u001b[0m fuel_oil ┆ \u001b[1m[\u001b[0m%\u001b[1m]\u001b[0m          ┆ \u001b[1m[\u001b[0m%\u001b[1m]\u001b[0m district ┆ \u001b[1m[\u001b[0m%\u001b[1m]\u001b[0m wood ┆ \u001b[1m[\u001b[0m%\u001b[1m]\u001b[0m solar_co ┆ \u001b[1m[\u001b[0m%\u001b[1m]\u001b[0m          ┆ \u001b[1m[\u001b[0midx\u001b[1m]\u001b[0m Year │\n",
       "│ ---          ┆ natural_gas  ┆ _heat        ┆ ---      ┆ llectors     ┆ heat_pumps   ┆ ---        │\n",
       "│ f64          ┆ ---          ┆ ---          ┆ f64      ┆ ---          ┆ ---          ┆ i64        │\n",
       "│              ┆ f64          ┆ f64          ┆          ┆ f64          ┆ f64          ┆            │\n",
       "╞══════════════╪══════════════╪══════════════╪══════════╪══════════════╪══════════════╪════════════╡\n",
       "│ \u001b[1;36m4.6\u001b[0m          ┆ \u001b[1;36m21.0\u001b[0m         ┆ \u001b[1;36m41.0\u001b[0m         ┆ \u001b[1;36m5.6\u001b[0m      ┆ \u001b[1;36m0.8\u001b[0m          ┆ \u001b[1;36m27.0\u001b[0m         ┆ \u001b[1;36m2035\u001b[0m       │\n",
       "└──────────────┴──────────────┴──────────────┴──────────┴──────────────┴──────────────┴────────────┘\n"
      ]
     },
     "metadata": {},
     "output_type": "display_data"
    },
    {
     "data": {
      "text/html": [
       "<pre style=\"white-space:pre;overflow-x:auto;line-height:normal;font-family:Menlo,'DejaVu Sans Mono',consolas,'Courier New',monospace\"><span style=\"color: #7fbfbf; text-decoration-color: #7fbfbf\">2023-11-08 01:54:47.292415 </span><span style=\"color: #008000; text-decoration-color: #008000\">DEBUG   </span>   <span style=\"font-weight: bold\">[</span>3ZT327F0PG<span style=\"font-weight: bold\">]</span> Start execution run                                 <a href=\"file:///home/jey/sync/devel/kausal-paths/common/cache.py#116\" target=\"_blank\"><span style=\"color: #7f7f7f; text-decoration-color: #7f7f7f\">common.cache</span></a>\n",
       "</pre>\n"
      ],
      "text/plain": [
       "\u001b[2;36m2023-11-08 01:54:47.292415\u001b[0m\u001b[2;36m \u001b[0m\u001b[32mDEBUG   \u001b[0m   \u001b[1m[\u001b[0m3ZT327F0PG\u001b[1m]\u001b[0m Start execution run                                 \u001b]8;id=374567;file:///home/jey/sync/devel/kausal-paths/common/cache.py#116\u001b\\\u001b[2mcommon.cache\u001b[0m\u001b]8;;\u001b\\\n"
      ]
     },
     "metadata": {},
     "output_type": "display_data"
    },
    {
     "data": {
      "text/html": [
       "<pre style=\"white-space:pre;overflow-x:auto;line-height:normal;font-family:Menlo,'DejaVu Sans Mono',consolas,'Courier New',monospace\"><span style=\"font-weight: bold\">[</span><span style=\"color: #008080; text-decoration-color: #008080; font-weight: bold\">-0.43</span>, <span style=\"color: #008080; text-decoration-color: #008080; font-weight: bold\">-1.18</span>, <span style=\"color: #008080; text-decoration-color: #008080; font-weight: bold\">-0.59</span>, <span style=\"color: #008080; text-decoration-color: #008080; font-weight: bold\">-1.21</span>, <span style=\"color: #008080; text-decoration-color: #008080; font-weight: bold\">-0.08</span>, <span style=\"color: #008080; text-decoration-color: #008080; font-weight: bold\">17.78</span>, <span style=\"color: #008080; text-decoration-color: #008080; font-weight: bold\">9.34</span>, <span style=\"color: #008080; text-decoration-color: #008080; font-weight: bold\">-0.02</span>, <span style=\"color: #008080; text-decoration-color: #008080; font-weight: bold\">3.91</span>, <span style=\"color: #008080; text-decoration-color: #008080; font-weight: bold\">11.43</span><span style=\"font-weight: bold\">]</span>\n",
       "</pre>\n"
      ],
      "text/plain": [
       "\u001b[1m[\u001b[0m\u001b[1;36m-0.43\u001b[0m, \u001b[1;36m-1.18\u001b[0m, \u001b[1;36m-0.59\u001b[0m, \u001b[1;36m-1.21\u001b[0m, \u001b[1;36m-0.08\u001b[0m, \u001b[1;36m17.78\u001b[0m, \u001b[1;36m9.34\u001b[0m, \u001b[1;36m-0.02\u001b[0m, \u001b[1;36m3.91\u001b[0m, \u001b[1;36m11.43\u001b[0m\u001b[1m]\u001b[0m\n"
      ]
     },
     "metadata": {},
     "output_type": "display_data"
    },
    {
     "data": {
      "text/html": [
       "<pre style=\"white-space:pre;overflow-x:auto;line-height:normal;font-family:Menlo,'DejaVu Sans Mono',consolas,'Courier New',monospace\"><span style=\"color: #7fbfbf; text-decoration-color: #7fbfbf\">2023-11-08 01:54:54.170049 </span><span style=\"color: #008000; text-decoration-color: #008000\">DEBUG   </span>   <span style=\"font-weight: bold\">[</span>3ZT327F0PG<span style=\"font-weight: bold\">]</span> End execution run <span style=\"font-weight: bold\">(</span>computation <span style=\"color: #008080; text-decoration-color: #008080; font-weight: bold\">6877.62</span> ms, <span style=\"color: #008080; text-decoration-color: #008080; font-weight: bold\">277</span>      <a href=\"file:///home/jey/sync/devel/kausal-paths/common/cache.py#149\" target=\"_blank\"><span style=\"color: #7f7f7f; text-decoration-color: #7f7f7f\">common.cache</span></a>\n",
       "<span style=\"color: #7fbfbf; text-decoration-color: #7fbfbf\">                           </span>         reqs; caching <span style=\"color: #008080; text-decoration-color: #008080; font-weight: bold\">0</span> new objects took <span style=\"color: #008080; text-decoration-color: #008080; font-weight: bold\">0.00</span> ms<span style=\"font-weight: bold\">)</span>                          <span style=\"color: #7f7f7f; text-decoration-color: #7f7f7f\">            </span>\n",
       "</pre>\n"
      ],
      "text/plain": [
       "\u001b[2;36m2023-11-08 01:54:54.170049\u001b[0m\u001b[2;36m \u001b[0m\u001b[32mDEBUG   \u001b[0m   \u001b[1m[\u001b[0m3ZT327F0PG\u001b[1m]\u001b[0m End execution run \u001b[1m(\u001b[0mcomputation \u001b[1;36m6877.62\u001b[0m ms, \u001b[1;36m277\u001b[0m      \u001b]8;id=298863;file:///home/jey/sync/devel/kausal-paths/common/cache.py#149\u001b\\\u001b[2mcommon.cache\u001b[0m\u001b]8;;\u001b\\\n",
       "\u001b[2;36m                           \u001b[0m         reqs; caching \u001b[1;36m0\u001b[0m new objects took \u001b[1;36m0.00\u001b[0m ms\u001b[1m)\u001b[0m                          \u001b[2m            \u001b[0m\n"
      ]
     },
     "metadata": {},
     "output_type": "display_data"
    },
    {
     "data": {
      "text/html": [
       "<pre style=\"white-space:pre;overflow-x:auto;line-height:normal;font-family:Menlo,'DejaVu Sans Mono',consolas,'Courier New',monospace\"><span style=\"color: #008080; text-decoration-color: #008080; font-weight: bold\">2040</span>\n",
       "</pre>\n"
      ],
      "text/plain": [
       "\u001b[1;36m2040\u001b[0m\n"
      ]
     },
     "metadata": {},
     "output_type": "display_data"
    },
    {
     "data": {
      "text/html": [
       "<pre style=\"white-space:pre;overflow-x:auto;line-height:normal;font-family:Menlo,'DejaVu Sans Mono',consolas,'Courier New',monospace\">start:\n",
       "<span style=\"font-weight: bold\">[</span><span style=\"color: #008080; text-decoration-color: #008080; font-weight: bold\">-0.43</span>, <span style=\"color: #008080; text-decoration-color: #008080; font-weight: bold\">-1.18</span>, <span style=\"color: #008080; text-decoration-color: #008080; font-weight: bold\">-0.59</span>, <span style=\"color: #008080; text-decoration-color: #008080; font-weight: bold\">-1.21</span>, <span style=\"color: #008080; text-decoration-color: #008080; font-weight: bold\">-0.08</span>, <span style=\"color: #008080; text-decoration-color: #008080; font-weight: bold\">17.78</span>, <span style=\"color: #008080; text-decoration-color: #008080; font-weight: bold\">9.34</span>, <span style=\"color: #008080; text-decoration-color: #008080; font-weight: bold\">-0.02</span>, <span style=\"color: #008080; text-decoration-color: #008080; font-weight: bold\">3.91</span>, <span style=\"color: #008080; text-decoration-color: #008080; font-weight: bold\">11.43</span><span style=\"font-weight: bold\">]</span>\n",
       "lb:\n",
       "<span style=\"font-weight: bold\">[</span><span style=\"color: #008080; text-decoration-color: #008080; font-weight: bold\">-100</span>, <span style=\"color: #008080; text-decoration-color: #008080; font-weight: bold\">-100</span>, <span style=\"color: #008080; text-decoration-color: #008080; font-weight: bold\">-100</span>, <span style=\"color: #008080; text-decoration-color: #008080; font-weight: bold\">-100</span>, <span style=\"color: #008080; text-decoration-color: #008080; font-weight: bold\">-100</span>, <span style=\"color: #008080; text-decoration-color: #008080; font-weight: bold\">0</span>, <span style=\"color: #008080; text-decoration-color: #008080; font-weight: bold\">0</span>, <span style=\"color: #008080; text-decoration-color: #008080; font-weight: bold\">-100</span>, <span style=\"color: #008080; text-decoration-color: #008080; font-weight: bold\">0</span>, <span style=\"color: #008080; text-decoration-color: #008080; font-weight: bold\">0</span><span style=\"font-weight: bold\">]</span>\n",
       "ub:\n",
       "<span style=\"font-weight: bold\">[</span><span style=\"color: #008080; text-decoration-color: #008080; font-weight: bold\">0</span>, <span style=\"color: #008080; text-decoration-color: #008080; font-weight: bold\">0</span>, <span style=\"color: #008080; text-decoration-color: #008080; font-weight: bold\">0</span>, <span style=\"color: #008080; text-decoration-color: #008080; font-weight: bold\">0</span>, <span style=\"color: #008080; text-decoration-color: #008080; font-weight: bold\">0</span>, <span style=\"color: #008080; text-decoration-color: #008080; font-weight: bold\">27.12</span>, <span style=\"color: #008080; text-decoration-color: #008080; font-weight: bold\">27.12</span>, <span style=\"color: #008080; text-decoration-color: #008080; font-weight: bold\">0</span>, <span style=\"color: #008080; text-decoration-color: #008080; font-weight: bold\">15.34</span>, <span style=\"color: #008080; text-decoration-color: #008080; font-weight: bold\">15.34</span><span style=\"font-weight: bold\">]</span>\n",
       "\n",
       "</pre>\n"
      ],
      "text/plain": [
       "start:\n",
       "\u001b[1m[\u001b[0m\u001b[1;36m-0.43\u001b[0m, \u001b[1;36m-1.18\u001b[0m, \u001b[1;36m-0.59\u001b[0m, \u001b[1;36m-1.21\u001b[0m, \u001b[1;36m-0.08\u001b[0m, \u001b[1;36m17.78\u001b[0m, \u001b[1;36m9.34\u001b[0m, \u001b[1;36m-0.02\u001b[0m, \u001b[1;36m3.91\u001b[0m, \u001b[1;36m11.43\u001b[0m\u001b[1m]\u001b[0m\n",
       "lb:\n",
       "\u001b[1m[\u001b[0m\u001b[1;36m-100\u001b[0m, \u001b[1;36m-100\u001b[0m, \u001b[1;36m-100\u001b[0m, \u001b[1;36m-100\u001b[0m, \u001b[1;36m-100\u001b[0m, \u001b[1;36m0\u001b[0m, \u001b[1;36m0\u001b[0m, \u001b[1;36m-100\u001b[0m, \u001b[1;36m0\u001b[0m, \u001b[1;36m0\u001b[0m\u001b[1m]\u001b[0m\n",
       "ub:\n",
       "\u001b[1m[\u001b[0m\u001b[1;36m0\u001b[0m, \u001b[1;36m0\u001b[0m, \u001b[1;36m0\u001b[0m, \u001b[1;36m0\u001b[0m, \u001b[1;36m0\u001b[0m, \u001b[1;36m27.12\u001b[0m, \u001b[1;36m27.12\u001b[0m, \u001b[1;36m0\u001b[0m, \u001b[1;36m15.34\u001b[0m, \u001b[1;36m15.34\u001b[0m\u001b[1m]\u001b[0m\n",
       "\n"
      ]
     },
     "metadata": {},
     "output_type": "display_data"
    },
    {
     "data": {
      "text/html": [
       "<pre style=\"white-space:pre;overflow-x:auto;line-height:normal;font-family:Menlo,'DejaVu Sans Mono',consolas,'Courier New',monospace\">shape: <span style=\"font-weight: bold\">(</span><span style=\"color: #008080; text-decoration-color: #008080; font-weight: bold\">1</span>, <span style=\"color: #008080; text-decoration-color: #008080; font-weight: bold\">7</span><span style=\"font-weight: bold\">)</span>\n",
       "┌──────────────┬──────────────┬──────────────┬──────────┬──────────────┬──────────────┬────────────┐\n",
       "│ <span style=\"font-weight: bold\">[</span>%<span style=\"font-weight: bold\">]</span> fuel_oil ┆ <span style=\"font-weight: bold\">[</span>%<span style=\"font-weight: bold\">]</span>          ┆ <span style=\"font-weight: bold\">[</span>%<span style=\"font-weight: bold\">]</span> district ┆ <span style=\"font-weight: bold\">[</span>%<span style=\"font-weight: bold\">]</span> wood ┆ <span style=\"font-weight: bold\">[</span>%<span style=\"font-weight: bold\">]</span> solar_co ┆ <span style=\"font-weight: bold\">[</span>%<span style=\"font-weight: bold\">]</span>          ┆ <span style=\"font-weight: bold\">[</span>idx<span style=\"font-weight: bold\">]</span> Year │\n",
       "│ ---          ┆ natural_gas  ┆ _heat        ┆ ---      ┆ llectors     ┆ heat_pumps   ┆ ---        │\n",
       "│ f64          ┆ ---          ┆ ---          ┆ f64      ┆ ---          ┆ ---          ┆ i64        │\n",
       "│              ┆ f64          ┆ f64          ┆          ┆ f64          ┆ f64          ┆            │\n",
       "╞══════════════╪══════════════╪══════════════╪══════════╪══════════════╪══════════════╪════════════╡\n",
       "│ <span style=\"color: #008080; text-decoration-color: #008080; font-weight: bold\">0.0</span>          ┆ <span style=\"color: #008080; text-decoration-color: #008080; font-weight: bold\">9.0</span>          ┆ <span style=\"color: #008080; text-decoration-color: #008080; font-weight: bold\">49.0</span>         ┆ <span style=\"color: #008080; text-decoration-color: #008080; font-weight: bold\">6.0</span>      ┆ <span style=\"color: #008080; text-decoration-color: #008080; font-weight: bold\">1.0</span>          ┆ <span style=\"color: #008080; text-decoration-color: #008080; font-weight: bold\">35.0</span>         ┆ <span style=\"color: #008080; text-decoration-color: #008080; font-weight: bold\">2040</span>       │\n",
       "└──────────────┴──────────────┴──────────────┴──────────┴──────────────┴──────────────┴────────────┘\n",
       "</pre>\n"
      ],
      "text/plain": [
       "shape: \u001b[1m(\u001b[0m\u001b[1;36m1\u001b[0m, \u001b[1;36m7\u001b[0m\u001b[1m)\u001b[0m\n",
       "┌──────────────┬──────────────┬──────────────┬──────────┬──────────────┬──────────────┬────────────┐\n",
       "│ \u001b[1m[\u001b[0m%\u001b[1m]\u001b[0m fuel_oil ┆ \u001b[1m[\u001b[0m%\u001b[1m]\u001b[0m          ┆ \u001b[1m[\u001b[0m%\u001b[1m]\u001b[0m district ┆ \u001b[1m[\u001b[0m%\u001b[1m]\u001b[0m wood ┆ \u001b[1m[\u001b[0m%\u001b[1m]\u001b[0m solar_co ┆ \u001b[1m[\u001b[0m%\u001b[1m]\u001b[0m          ┆ \u001b[1m[\u001b[0midx\u001b[1m]\u001b[0m Year │\n",
       "│ ---          ┆ natural_gas  ┆ _heat        ┆ ---      ┆ llectors     ┆ heat_pumps   ┆ ---        │\n",
       "│ f64          ┆ ---          ┆ ---          ┆ f64      ┆ ---          ┆ ---          ┆ i64        │\n",
       "│              ┆ f64          ┆ f64          ┆          ┆ f64          ┆ f64          ┆            │\n",
       "╞══════════════╪══════════════╪══════════════╪══════════╪══════════════╪══════════════╪════════════╡\n",
       "│ \u001b[1;36m0.0\u001b[0m          ┆ \u001b[1;36m9.0\u001b[0m          ┆ \u001b[1;36m49.0\u001b[0m         ┆ \u001b[1;36m6.0\u001b[0m      ┆ \u001b[1;36m1.0\u001b[0m          ┆ \u001b[1;36m35.0\u001b[0m         ┆ \u001b[1;36m2040\u001b[0m       │\n",
       "└──────────────┴──────────────┴──────────────┴──────────┴──────────────┴──────────────┴────────────┘\n"
      ]
     },
     "metadata": {},
     "output_type": "display_data"
    },
    {
     "data": {
      "text/html": [
       "<pre style=\"white-space:pre;overflow-x:auto;line-height:normal;font-family:Menlo,'DejaVu Sans Mono',consolas,'Courier New',monospace\"><span style=\"color: #7fbfbf; text-decoration-color: #7fbfbf\">2023-11-08 01:54:54.199880 </span><span style=\"color: #008000; text-decoration-color: #008000\">DEBUG   </span>   <span style=\"font-weight: bold\">[</span>3ZT327F0PG<span style=\"font-weight: bold\">]</span> Start execution run                                 <a href=\"file:///home/jey/sync/devel/kausal-paths/common/cache.py#116\" target=\"_blank\"><span style=\"color: #7f7f7f; text-decoration-color: #7f7f7f\">common.cache</span></a>\n",
       "</pre>\n"
      ],
      "text/plain": [
       "\u001b[2;36m2023-11-08 01:54:54.199880\u001b[0m\u001b[2;36m \u001b[0m\u001b[32mDEBUG   \u001b[0m   \u001b[1m[\u001b[0m3ZT327F0PG\u001b[1m]\u001b[0m Start execution run                                 \u001b]8;id=956615;file:///home/jey/sync/devel/kausal-paths/common/cache.py#116\u001b\\\u001b[2mcommon.cache\u001b[0m\u001b]8;;\u001b\\\n"
      ]
     },
     "metadata": {},
     "output_type": "display_data"
    },
    {
     "data": {
      "text/html": [
       "<pre style=\"white-space:pre;overflow-x:auto;line-height:normal;font-family:Menlo,'DejaVu Sans Mono',consolas,'Courier New',monospace\"><span style=\"font-weight: bold\">[</span><span style=\"color: #008080; text-decoration-color: #008080; font-weight: bold\">-0.51</span>, <span style=\"color: #008080; text-decoration-color: #008080; font-weight: bold\">-1.21</span>, <span style=\"color: #008080; text-decoration-color: #008080; font-weight: bold\">-0.54</span>, <span style=\"color: #008080; text-decoration-color: #008080; font-weight: bold\">-1.15</span>, <span style=\"color: #008080; text-decoration-color: #008080; font-weight: bold\">-0.13</span>, <span style=\"color: #008080; text-decoration-color: #008080; font-weight: bold\">17.1</span>, <span style=\"color: #008080; text-decoration-color: #008080; font-weight: bold\">7.95</span>, <span style=\"color: #008080; text-decoration-color: #008080; font-weight: bold\">-0.01</span>, <span style=\"color: #008080; text-decoration-color: #008080; font-weight: bold\">4.55</span>, <span style=\"color: #008080; text-decoration-color: #008080; font-weight: bold\">11.52</span><span style=\"font-weight: bold\">]</span>\n",
       "</pre>\n"
      ],
      "text/plain": [
       "\u001b[1m[\u001b[0m\u001b[1;36m-0.51\u001b[0m, \u001b[1;36m-1.21\u001b[0m, \u001b[1;36m-0.54\u001b[0m, \u001b[1;36m-1.15\u001b[0m, \u001b[1;36m-0.13\u001b[0m, \u001b[1;36m17.1\u001b[0m, \u001b[1;36m7.95\u001b[0m, \u001b[1;36m-0.01\u001b[0m, \u001b[1;36m4.55\u001b[0m, \u001b[1;36m11.52\u001b[0m\u001b[1m]\u001b[0m\n"
      ]
     },
     "metadata": {},
     "output_type": "display_data"
    },
    {
     "data": {
      "text/html": [
       "<pre style=\"white-space:pre;overflow-x:auto;line-height:normal;font-family:Menlo,'DejaVu Sans Mono',consolas,'Courier New',monospace\"><span style=\"color: #7fbfbf; text-decoration-color: #7fbfbf\">2023-11-08 01:55:00.601504 </span><span style=\"color: #008000; text-decoration-color: #008000\">DEBUG   </span>   <span style=\"font-weight: bold\">[</span>3ZT327F0PG<span style=\"font-weight: bold\">]</span> End execution run <span style=\"font-weight: bold\">(</span>computation <span style=\"color: #008080; text-decoration-color: #008080; font-weight: bold\">6401.60</span> ms, <span style=\"color: #008080; text-decoration-color: #008080; font-weight: bold\">257</span>      <a href=\"file:///home/jey/sync/devel/kausal-paths/common/cache.py#149\" target=\"_blank\"><span style=\"color: #7f7f7f; text-decoration-color: #7f7f7f\">common.cache</span></a>\n",
       "<span style=\"color: #7fbfbf; text-decoration-color: #7fbfbf\">                           </span>         reqs; caching <span style=\"color: #008080; text-decoration-color: #008080; font-weight: bold\">0</span> new objects took <span style=\"color: #008080; text-decoration-color: #008080; font-weight: bold\">0.00</span> ms<span style=\"font-weight: bold\">)</span>                          <span style=\"color: #7f7f7f; text-decoration-color: #7f7f7f\">            </span>\n",
       "</pre>\n"
      ],
      "text/plain": [
       "\u001b[2;36m2023-11-08 01:55:00.601504\u001b[0m\u001b[2;36m \u001b[0m\u001b[32mDEBUG   \u001b[0m   \u001b[1m[\u001b[0m3ZT327F0PG\u001b[1m]\u001b[0m End execution run \u001b[1m(\u001b[0mcomputation \u001b[1;36m6401.60\u001b[0m ms, \u001b[1;36m257\u001b[0m      \u001b]8;id=728662;file:///home/jey/sync/devel/kausal-paths/common/cache.py#149\u001b\\\u001b[2mcommon.cache\u001b[0m\u001b]8;;\u001b\\\n",
       "\u001b[2;36m                           \u001b[0m         reqs; caching \u001b[1;36m0\u001b[0m new objects took \u001b[1;36m0.00\u001b[0m ms\u001b[1m)\u001b[0m                          \u001b[2m            \u001b[0m\n"
      ]
     },
     "metadata": {},
     "output_type": "display_data"
    },
    {
     "data": {
      "text/html": [
       "<pre style=\"white-space:pre;overflow-x:auto;line-height:normal;font-family:Menlo,'DejaVu Sans Mono',consolas,'Courier New',monospace\"><span style=\"color: #800000; text-decoration-color: #800000\">╭─────────────────────────────── </span><span style=\"color: #800000; text-decoration-color: #800000; font-weight: bold\">Traceback </span><span style=\"color: #bf7f7f; text-decoration-color: #bf7f7f; font-weight: bold\">(most recent call last)</span><span style=\"color: #800000; text-decoration-color: #800000\"> ────────────────────────────────╮</span>\n",
       "<span style=\"color: #800000; text-decoration-color: #800000\">│</span> in <span style=\"color: #00ff00; text-decoration-color: #00ff00\">&lt;module&gt;</span>:<span style=\"color: #0000ff; text-decoration-color: #0000ff\">129</span>                                                                                  <span style=\"color: #800000; text-decoration-color: #800000\">│</span>\n",
       "<span style=\"color: #800000; text-decoration-color: #800000\">│</span>                                                                                                  <span style=\"color: #800000; text-decoration-color: #800000\">│</span>\n",
       "<span style=\"color: #800000; text-decoration-color: #800000\">│</span>   <span style=\"color: #7f7f7f; text-decoration-color: #7f7f7f\">126 </span><span style=\"color: #0000ff; text-decoration-color: #0000ff\">finally</span>:                                                                                   <span style=\"color: #800000; text-decoration-color: #800000\">│</span>\n",
       "<span style=\"color: #800000; text-decoration-color: #800000\">│</span>   <span style=\"color: #7f7f7f; text-decoration-color: #7f7f7f\">127 </span><span style=\"color: #7f7f7f; text-decoration-color: #7f7f7f\">│   </span><span style=\"color: #0000ff; text-decoration-color: #0000ff\">for</span> act, orig_val <span style=\"color: #ff00ff; text-decoration-color: #ff00ff\">in</span> <span style=\"color: #00ffff; text-decoration-color: #00ffff\">zip</span>(act_nodes, orig_values):                                      <span style=\"color: #800000; text-decoration-color: #800000\">│</span>\n",
       "<span style=\"color: #800000; text-decoration-color: #800000\">│</span>   <span style=\"color: #7f7f7f; text-decoration-color: #7f7f7f\">128 </span><span style=\"color: #7f7f7f; text-decoration-color: #7f7f7f\">│   │   </span>val: ShiftParameterValue = act.get_parameter_value(<span style=\"color: #808000; text-decoration-color: #808000\">'shift'</span>)                        <span style=\"color: #800000; text-decoration-color: #800000\">│</span>\n",
       "<span style=\"color: #800000; text-decoration-color: #800000\">│</span> <span style=\"color: #800000; text-decoration-color: #800000\">❱ </span>129 <span style=\"color: #7f7f7f; text-decoration-color: #7f7f7f\">│   │   </span>act.set_parameter_value(<span style=\"color: #808000; text-decoration-color: #808000\">'shift'</span>, orig_val)                                         <span style=\"color: #800000; text-decoration-color: #800000\">│</span>\n",
       "<span style=\"color: #800000; text-decoration-color: #800000\">│</span>   <span style=\"color: #7f7f7f; text-decoration-color: #7f7f7f\">130 </span><span style=\"color: #7f7f7f; text-decoration-color: #7f7f7f\">│   │   </span>orig_data = orig_val.model_dump(exclude_none=<span style=\"color: #0000ff; text-decoration-color: #0000ff\">False</span>)                                <span style=\"color: #800000; text-decoration-color: #800000\">│</span>\n",
       "<span style=\"color: #800000; text-decoration-color: #800000\">│</span>   <span style=\"color: #7f7f7f; text-decoration-color: #7f7f7f\">131 </span><span style=\"color: #7f7f7f; text-decoration-color: #7f7f7f\">│   │   </span>new_data = val.model_dump(exclude_none=<span style=\"color: #0000ff; text-decoration-color: #0000ff\">False</span>)                                      <span style=\"color: #800000; text-decoration-color: #800000\">│</span>\n",
       "<span style=\"color: #800000; text-decoration-color: #800000\">│</span>   <span style=\"color: #7f7f7f; text-decoration-color: #7f7f7f\">132 </span><span style=\"color: #7f7f7f; text-decoration-color: #7f7f7f\">│   │   </span><span style=\"color: #00ffff; text-decoration-color: #00ffff\">print</span>(<span style=\"color: #808000; text-decoration-color: #808000\">'- id: %s\\n%s\\n-&gt;\\n%s\\n\\n'</span> % (act.id, yaml.safe_dump(orig_data), yaml.safe   <span style=\"color: #800000; text-decoration-color: #800000\">│</span>\n",
       "<span style=\"color: #800000; text-decoration-color: #800000\">│</span>                                                                                                  <span style=\"color: #800000; text-decoration-color: #800000\">│</span>\n",
       "<span style=\"color: #800000; text-decoration-color: #800000\">│</span> <span style=\"color: #bfbf7f; text-decoration-color: #bfbf7f\">/home/jey/sync/devel/kausal-paths/nodes/</span><span style=\"color: #808000; text-decoration-color: #808000; font-weight: bold\">node.py</span>:<span style=\"color: #0000ff; text-decoration-color: #0000ff\">488</span> in <span style=\"color: #00ff00; text-decoration-color: #00ff00\">set_parameter_value</span>                       <span style=\"color: #800000; text-decoration-color: #800000\">│</span>\n",
       "<span style=\"color: #800000; text-decoration-color: #800000\">│</span>                                                                                                  <span style=\"color: #800000; text-decoration-color: #800000\">│</span>\n",
       "<span style=\"color: #800000; text-decoration-color: #800000\">│</span>   <span style=\"color: #7f7f7f; text-decoration-color: #7f7f7f\"> 485 </span><span style=\"color: #7f7f7f; text-decoration-color: #7f7f7f\">│   │   </span><span style=\"color: #7f7f7f; text-decoration-color: #7f7f7f\">#     self.parameters[local_id] = Parameter()</span>                                     <span style=\"color: #800000; text-decoration-color: #800000\">│</span>\n",
       "<span style=\"color: #800000; text-decoration-color: #800000\">│</span>   <span style=\"color: #7f7f7f; text-decoration-color: #7f7f7f\"> 486 </span><span style=\"color: #7f7f7f; text-decoration-color: #7f7f7f\">│   │   </span><span style=\"color: #0000ff; text-decoration-color: #0000ff\">if</span> local_id <span style=\"color: #ff00ff; text-decoration-color: #ff00ff\">not</span> <span style=\"color: #ff00ff; text-decoration-color: #ff00ff\">in</span> <span style=\"color: #00ffff; text-decoration-color: #00ffff\">self</span>.parameters:                                               <span style=\"color: #800000; text-decoration-color: #800000\">│</span>\n",
       "<span style=\"color: #800000; text-decoration-color: #800000\">│</span>   <span style=\"color: #7f7f7f; text-decoration-color: #7f7f7f\"> 487 </span><span style=\"color: #7f7f7f; text-decoration-color: #7f7f7f\">│   │   │   </span><span style=\"color: #0000ff; text-decoration-color: #0000ff\">raise</span> NodeError(<span style=\"color: #00ffff; text-decoration-color: #00ffff\">self</span>, <span style=\"color: #808000; text-decoration-color: #808000\">f\"Local parameter {</span>local_id<span style=\"color: #808000; text-decoration-color: #808000\">} not found for node {</span><span style=\"color: #00ffff; text-decoration-color: #00ffff\">self</span>.  <span style=\"color: #800000; text-decoration-color: #800000\">│</span>\n",
       "<span style=\"color: #800000; text-decoration-color: #800000\">│</span> <span style=\"color: #800000; text-decoration-color: #800000\">❱ </span> 488 <span style=\"color: #7f7f7f; text-decoration-color: #7f7f7f\">│   │   </span><span style=\"color: #00ffff; text-decoration-color: #00ffff\">self</span>.parameters[local_id].set(value)                                              <span style=\"color: #800000; text-decoration-color: #800000\">│</span>\n",
       "<span style=\"color: #800000; text-decoration-color: #800000\">│</span>   <span style=\"color: #7f7f7f; text-decoration-color: #7f7f7f\"> 489 </span><span style=\"color: #7f7f7f; text-decoration-color: #7f7f7f\">│   </span>                                                                                      <span style=\"color: #800000; text-decoration-color: #800000\">│</span>\n",
       "<span style=\"color: #800000; text-decoration-color: #800000\">│</span>   <span style=\"color: #7f7f7f; text-decoration-color: #7f7f7f\"> 490 </span><span style=\"color: #7f7f7f; text-decoration-color: #7f7f7f\">│   </span><span style=\"color: #0000ff; text-decoration-color: #0000ff\">def</span> <span style=\"color: #00ff00; text-decoration-color: #00ff00\">get_input_datasets_pl</span>(<span style=\"color: #00ffff; text-decoration-color: #00ffff\">self</span>, tag: <span style=\"color: #00ffff; text-decoration-color: #00ffff\">str</span> | <span style=\"color: #0000ff; text-decoration-color: #0000ff\">None</span> = <span style=\"color: #0000ff; text-decoration-color: #0000ff\">None</span>, exclude_tags: <span style=\"color: #00ffff; text-decoration-color: #00ffff\">list</span>[<span style=\"color: #00ffff; text-decoration-color: #00ffff\">str</span>] | <span style=\"color: #0000ff; text-decoration-color: #0000ff\">No</span>  <span style=\"color: #800000; text-decoration-color: #800000\">│</span>\n",
       "<span style=\"color: #800000; text-decoration-color: #800000\">│</span>   <span style=\"color: #7f7f7f; text-decoration-color: #7f7f7f\"> 491 </span><span style=\"color: #7f7f7f; text-decoration-color: #7f7f7f\">│   │   </span>dfs: List[ppl.PathsDataFrame] = []                                                <span style=\"color: #800000; text-decoration-color: #800000\">│</span>\n",
       "<span style=\"color: #800000; text-decoration-color: #800000\">│</span>                                                                                                  <span style=\"color: #800000; text-decoration-color: #800000\">│</span>\n",
       "<span style=\"color: #800000; text-decoration-color: #800000\">│</span> <span style=\"color: #bfbf7f; text-decoration-color: #bfbf7f\">/home/jey/sync/devel/kausal-paths/params/</span><span style=\"color: #808000; text-decoration-color: #808000; font-weight: bold\">param.py</span>:<span style=\"color: #0000ff; text-decoration-color: #0000ff\">77</span> in <span style=\"color: #00ff00; text-decoration-color: #00ff00\">set</span>                                      <span style=\"color: #800000; text-decoration-color: #800000\">│</span>\n",
       "<span style=\"color: #800000; text-decoration-color: #800000\">│</span>                                                                                                  <span style=\"color: #800000; text-decoration-color: #800000\">│</span>\n",
       "<span style=\"color: #800000; text-decoration-color: #800000\">│</span>   <span style=\"color: #7f7f7f; text-decoration-color: #7f7f7f\"> 74 </span><span style=\"color: #7f7f7f; text-decoration-color: #7f7f7f\">│   </span>                                                                                       <span style=\"color: #800000; text-decoration-color: #800000\">│</span>\n",
       "<span style=\"color: #800000; text-decoration-color: #800000\">│</span>   <span style=\"color: #7f7f7f; text-decoration-color: #7f7f7f\"> 75 </span><span style=\"color: #7f7f7f; text-decoration-color: #7f7f7f\">│   </span><span style=\"color: #0000ff; text-decoration-color: #0000ff\">def</span> <span style=\"color: #00ff00; text-decoration-color: #00ff00\">set</span>(<span style=\"color: #00ffff; text-decoration-color: #00ffff\">self</span>, value: V, notify: <span style=\"color: #00ffff; text-decoration-color: #00ffff\">bool</span> = <span style=\"color: #0000ff; text-decoration-color: #0000ff\">True</span>):                                          <span style=\"color: #800000; text-decoration-color: #800000\">│</span>\n",
       "<span style=\"color: #800000; text-decoration-color: #800000\">│</span>   <span style=\"color: #7f7f7f; text-decoration-color: #7f7f7f\"> 76 </span><span style=\"color: #7f7f7f; text-decoration-color: #7f7f7f\">│   │   </span>prev_val = <span style=\"color: #00ffff; text-decoration-color: #00ffff\">getattr</span>(<span style=\"color: #00ffff; text-decoration-color: #00ffff\">self</span>, <span style=\"color: #808000; text-decoration-color: #808000\">'value'</span>, <span style=\"color: #0000ff; text-decoration-color: #0000ff\">None</span>)                                            <span style=\"color: #800000; text-decoration-color: #800000\">│</span>\n",
       "<span style=\"color: #800000; text-decoration-color: #800000\">│</span> <span style=\"color: #800000; text-decoration-color: #800000\">❱ </span> 77 <span style=\"color: #7f7f7f; text-decoration-color: #7f7f7f\">│   │   </span><span style=\"color: #00ffff; text-decoration-color: #00ffff\">self</span>.value = <span style=\"color: #00ffff; text-decoration-color: #00ffff\">self</span>.clean(value)                                                     <span style=\"color: #800000; text-decoration-color: #800000\">│</span>\n",
       "<span style=\"color: #800000; text-decoration-color: #800000\">│</span>   <span style=\"color: #7f7f7f; text-decoration-color: #7f7f7f\"> 78 </span><span style=\"color: #7f7f7f; text-decoration-color: #7f7f7f\">│   │   </span><span style=\"color: #0000ff; text-decoration-color: #0000ff\">if</span> notify <span style=\"color: #ff00ff; text-decoration-color: #ff00ff\">and</span> <span style=\"color: #ff00ff; text-decoration-color: #ff00ff\">not</span> <span style=\"color: #00ffff; text-decoration-color: #00ffff\">self</span>.is_value_equal(prev_val):                                   <span style=\"color: #800000; text-decoration-color: #800000\">│</span>\n",
       "<span style=\"color: #800000; text-decoration-color: #800000\">│</span>   <span style=\"color: #7f7f7f; text-decoration-color: #7f7f7f\"> 79 </span><span style=\"color: #7f7f7f; text-decoration-color: #7f7f7f\">│   │   │   </span><span style=\"color: #00ffff; text-decoration-color: #00ffff\">self</span>.notify_change()                                                           <span style=\"color: #800000; text-decoration-color: #800000\">│</span>\n",
       "<span style=\"color: #800000; text-decoration-color: #800000\">│</span>   <span style=\"color: #7f7f7f; text-decoration-color: #7f7f7f\"> 80 </span>                                                                                           <span style=\"color: #800000; text-decoration-color: #800000\">│</span>\n",
       "<span style=\"color: #800000; text-decoration-color: #800000\">│</span>                                                                                                  <span style=\"color: #800000; text-decoration-color: #800000\">│</span>\n",
       "<span style=\"color: #800000; text-decoration-color: #800000\">│</span> <span style=\"color: #bfbf7f; text-decoration-color: #bfbf7f\">/home/jey/sync/devel/kausal-paths/nodes/actions/</span><span style=\"color: #808000; text-decoration-color: #808000; font-weight: bold\">shift.py</span>:<span style=\"color: #0000ff; text-decoration-color: #0000ff\">113</span> in <span style=\"color: #00ff00; text-decoration-color: #00ff00\">clean</span>                            <span style=\"color: #800000; text-decoration-color: #800000\">│</span>\n",
       "<span style=\"color: #800000; text-decoration-color: #800000\">│</span>                                                                                                  <span style=\"color: #800000; text-decoration-color: #800000\">│</span>\n",
       "<span style=\"color: #800000; text-decoration-color: #800000\">│</span>   <span style=\"color: #7f7f7f; text-decoration-color: #7f7f7f\">110 </span><span style=\"color: #7f7f7f; text-decoration-color: #7f7f7f\">│   </span>                                                                                       <span style=\"color: #800000; text-decoration-color: #800000\">│</span>\n",
       "<span style=\"color: #800000; text-decoration-color: #800000\">│</span>   <span style=\"color: #7f7f7f; text-decoration-color: #7f7f7f\">111 </span><span style=\"color: #7f7f7f; text-decoration-color: #7f7f7f\">│   </span><span style=\"color: #0000ff; text-decoration-color: #0000ff\">def</span> <span style=\"color: #00ff00; text-decoration-color: #00ff00\">clean</span>(<span style=\"color: #00ffff; text-decoration-color: #00ffff\">self</span>, value: Any) -&gt; ShiftParameterValue:                                    <span style=\"color: #800000; text-decoration-color: #800000\">│</span>\n",
       "<span style=\"color: #800000; text-decoration-color: #800000\">│</span>   <span style=\"color: #7f7f7f; text-decoration-color: #7f7f7f\">112 </span><span style=\"color: #7f7f7f; text-decoration-color: #7f7f7f\">│   │   </span><span style=\"color: #0000ff; text-decoration-color: #0000ff\">if</span> <span style=\"color: #ff00ff; text-decoration-color: #ff00ff\">not</span> <span style=\"color: #00ffff; text-decoration-color: #00ffff\">isinstance</span>(value, <span style=\"color: #00ffff; text-decoration-color: #00ffff\">list</span>):                                                    <span style=\"color: #800000; text-decoration-color: #800000\">│</span>\n",
       "<span style=\"color: #800000; text-decoration-color: #800000\">│</span> <span style=\"color: #800000; text-decoration-color: #800000\">❱ </span>113 <span style=\"color: #7f7f7f; text-decoration-color: #7f7f7f\">│   │   │   </span><span style=\"color: #0000ff; text-decoration-color: #0000ff\">raise</span> ValidationError(<span style=\"color: #00ffff; text-decoration-color: #00ffff\">self</span>, <span style=\"color: #808000; text-decoration-color: #808000\">\"Input must be a list\"</span>)                            <span style=\"color: #800000; text-decoration-color: #800000\">│</span>\n",
       "<span style=\"color: #800000; text-decoration-color: #800000\">│</span>   <span style=\"color: #7f7f7f; text-decoration-color: #7f7f7f\">114 </span><span style=\"color: #7f7f7f; text-decoration-color: #7f7f7f\">│   │   </span>                                                                                   <span style=\"color: #800000; text-decoration-color: #800000\">│</span>\n",
       "<span style=\"color: #800000; text-decoration-color: #800000\">│</span>   <span style=\"color: #7f7f7f; text-decoration-color: #7f7f7f\">115 </span><span style=\"color: #7f7f7f; text-decoration-color: #7f7f7f\">│   │   </span><span style=\"color: #0000ff; text-decoration-color: #0000ff\">try</span>:                                                                               <span style=\"color: #800000; text-decoration-color: #800000\">│</span>\n",
       "<span style=\"color: #800000; text-decoration-color: #800000\">│</span>   <span style=\"color: #7f7f7f; text-decoration-color: #7f7f7f\">116 </span><span style=\"color: #7f7f7f; text-decoration-color: #7f7f7f\">│   │   │   </span><span style=\"color: #0000ff; text-decoration-color: #0000ff\">return</span> ShiftParameterValue.model_validate(value)                               <span style=\"color: #800000; text-decoration-color: #800000\">│</span>\n",
       "<span style=\"color: #800000; text-decoration-color: #800000\">╰──────────────────────────────────────────────────────────────────────────────────────────────────╯</span>\n",
       "<span style=\"color: #ff0000; text-decoration-color: #ff0000; font-weight: bold\">ValidationError: </span><span style=\"font-weight: bold\">[</span>Param shift<span style=\"font-weight: bold\">]</span>: Parameter validation failed: Input must be a list\n",
       "</pre>\n"
      ],
      "text/plain": [
       "\u001b[31m╭─\u001b[0m\u001b[31m──────────────────────────────\u001b[0m\u001b[31m \u001b[0m\u001b[1;31mTraceback \u001b[0m\u001b[1;2;31m(most recent call last)\u001b[0m\u001b[31m \u001b[0m\u001b[31m───────────────────────────────\u001b[0m\u001b[31m─╮\u001b[0m\n",
       "\u001b[31m│\u001b[0m in \u001b[92m<module>\u001b[0m:\u001b[94m129\u001b[0m                                                                                  \u001b[31m│\u001b[0m\n",
       "\u001b[31m│\u001b[0m                                                                                                  \u001b[31m│\u001b[0m\n",
       "\u001b[31m│\u001b[0m   \u001b[2m126 \u001b[0m\u001b[94mfinally\u001b[0m:                                                                                   \u001b[31m│\u001b[0m\n",
       "\u001b[31m│\u001b[0m   \u001b[2m127 \u001b[0m\u001b[2m│   \u001b[0m\u001b[94mfor\u001b[0m act, orig_val \u001b[95min\u001b[0m \u001b[96mzip\u001b[0m(act_nodes, orig_values):                                      \u001b[31m│\u001b[0m\n",
       "\u001b[31m│\u001b[0m   \u001b[2m128 \u001b[0m\u001b[2m│   │   \u001b[0mval: ShiftParameterValue = act.get_parameter_value(\u001b[33m'\u001b[0m\u001b[33mshift\u001b[0m\u001b[33m'\u001b[0m)                        \u001b[31m│\u001b[0m\n",
       "\u001b[31m│\u001b[0m \u001b[31m❱ \u001b[0m129 \u001b[2m│   │   \u001b[0mact.set_parameter_value(\u001b[33m'\u001b[0m\u001b[33mshift\u001b[0m\u001b[33m'\u001b[0m, orig_val)                                         \u001b[31m│\u001b[0m\n",
       "\u001b[31m│\u001b[0m   \u001b[2m130 \u001b[0m\u001b[2m│   │   \u001b[0morig_data = orig_val.model_dump(exclude_none=\u001b[94mFalse\u001b[0m)                                \u001b[31m│\u001b[0m\n",
       "\u001b[31m│\u001b[0m   \u001b[2m131 \u001b[0m\u001b[2m│   │   \u001b[0mnew_data = val.model_dump(exclude_none=\u001b[94mFalse\u001b[0m)                                      \u001b[31m│\u001b[0m\n",
       "\u001b[31m│\u001b[0m   \u001b[2m132 \u001b[0m\u001b[2m│   │   \u001b[0m\u001b[96mprint\u001b[0m(\u001b[33m'\u001b[0m\u001b[33m- id: \u001b[0m\u001b[33m%s\u001b[0m\u001b[33m\\n\u001b[0m\u001b[33m%s\u001b[0m\u001b[33m\\n\u001b[0m\u001b[33m->\u001b[0m\u001b[33m\\n\u001b[0m\u001b[33m%s\u001b[0m\u001b[33m\\n\u001b[0m\u001b[33m\\n\u001b[0m\u001b[33m'\u001b[0m % (act.id, yaml.safe_dump(orig_data), yaml.safe   \u001b[31m│\u001b[0m\n",
       "\u001b[31m│\u001b[0m                                                                                                  \u001b[31m│\u001b[0m\n",
       "\u001b[31m│\u001b[0m \u001b[2;33m/home/jey/sync/devel/kausal-paths/nodes/\u001b[0m\u001b[1;33mnode.py\u001b[0m:\u001b[94m488\u001b[0m in \u001b[92mset_parameter_value\u001b[0m                       \u001b[31m│\u001b[0m\n",
       "\u001b[31m│\u001b[0m                                                                                                  \u001b[31m│\u001b[0m\n",
       "\u001b[31m│\u001b[0m   \u001b[2m 485 \u001b[0m\u001b[2m│   │   \u001b[0m\u001b[2m#     self.parameters[local_id] = Parameter()\u001b[0m                                     \u001b[31m│\u001b[0m\n",
       "\u001b[31m│\u001b[0m   \u001b[2m 486 \u001b[0m\u001b[2m│   │   \u001b[0m\u001b[94mif\u001b[0m local_id \u001b[95mnot\u001b[0m \u001b[95min\u001b[0m \u001b[96mself\u001b[0m.parameters:                                               \u001b[31m│\u001b[0m\n",
       "\u001b[31m│\u001b[0m   \u001b[2m 487 \u001b[0m\u001b[2m│   │   │   \u001b[0m\u001b[94mraise\u001b[0m NodeError(\u001b[96mself\u001b[0m, \u001b[33mf\u001b[0m\u001b[33m\"\u001b[0m\u001b[33mLocal parameter \u001b[0m\u001b[33m{\u001b[0mlocal_id\u001b[33m}\u001b[0m\u001b[33m not found for node \u001b[0m\u001b[33m{\u001b[0m\u001b[96mself\u001b[0m.  \u001b[31m│\u001b[0m\n",
       "\u001b[31m│\u001b[0m \u001b[31m❱ \u001b[0m 488 \u001b[2m│   │   \u001b[0m\u001b[96mself\u001b[0m.parameters[local_id].set(value)                                              \u001b[31m│\u001b[0m\n",
       "\u001b[31m│\u001b[0m   \u001b[2m 489 \u001b[0m\u001b[2m│   \u001b[0m                                                                                      \u001b[31m│\u001b[0m\n",
       "\u001b[31m│\u001b[0m   \u001b[2m 490 \u001b[0m\u001b[2m│   \u001b[0m\u001b[94mdef\u001b[0m \u001b[92mget_input_datasets_pl\u001b[0m(\u001b[96mself\u001b[0m, tag: \u001b[96mstr\u001b[0m | \u001b[94mNone\u001b[0m = \u001b[94mNone\u001b[0m, exclude_tags: \u001b[96mlist\u001b[0m[\u001b[96mstr\u001b[0m] | \u001b[94mNo\u001b[0m  \u001b[31m│\u001b[0m\n",
       "\u001b[31m│\u001b[0m   \u001b[2m 491 \u001b[0m\u001b[2m│   │   \u001b[0mdfs: List[ppl.PathsDataFrame] = []                                                \u001b[31m│\u001b[0m\n",
       "\u001b[31m│\u001b[0m                                                                                                  \u001b[31m│\u001b[0m\n",
       "\u001b[31m│\u001b[0m \u001b[2;33m/home/jey/sync/devel/kausal-paths/params/\u001b[0m\u001b[1;33mparam.py\u001b[0m:\u001b[94m77\u001b[0m in \u001b[92mset\u001b[0m                                      \u001b[31m│\u001b[0m\n",
       "\u001b[31m│\u001b[0m                                                                                                  \u001b[31m│\u001b[0m\n",
       "\u001b[31m│\u001b[0m   \u001b[2m 74 \u001b[0m\u001b[2m│   \u001b[0m                                                                                       \u001b[31m│\u001b[0m\n",
       "\u001b[31m│\u001b[0m   \u001b[2m 75 \u001b[0m\u001b[2m│   \u001b[0m\u001b[94mdef\u001b[0m \u001b[92mset\u001b[0m(\u001b[96mself\u001b[0m, value: V, notify: \u001b[96mbool\u001b[0m = \u001b[94mTrue\u001b[0m):                                          \u001b[31m│\u001b[0m\n",
       "\u001b[31m│\u001b[0m   \u001b[2m 76 \u001b[0m\u001b[2m│   │   \u001b[0mprev_val = \u001b[96mgetattr\u001b[0m(\u001b[96mself\u001b[0m, \u001b[33m'\u001b[0m\u001b[33mvalue\u001b[0m\u001b[33m'\u001b[0m, \u001b[94mNone\u001b[0m)                                            \u001b[31m│\u001b[0m\n",
       "\u001b[31m│\u001b[0m \u001b[31m❱ \u001b[0m 77 \u001b[2m│   │   \u001b[0m\u001b[96mself\u001b[0m.value = \u001b[96mself\u001b[0m.clean(value)                                                     \u001b[31m│\u001b[0m\n",
       "\u001b[31m│\u001b[0m   \u001b[2m 78 \u001b[0m\u001b[2m│   │   \u001b[0m\u001b[94mif\u001b[0m notify \u001b[95mand\u001b[0m \u001b[95mnot\u001b[0m \u001b[96mself\u001b[0m.is_value_equal(prev_val):                                   \u001b[31m│\u001b[0m\n",
       "\u001b[31m│\u001b[0m   \u001b[2m 79 \u001b[0m\u001b[2m│   │   │   \u001b[0m\u001b[96mself\u001b[0m.notify_change()                                                           \u001b[31m│\u001b[0m\n",
       "\u001b[31m│\u001b[0m   \u001b[2m 80 \u001b[0m                                                                                           \u001b[31m│\u001b[0m\n",
       "\u001b[31m│\u001b[0m                                                                                                  \u001b[31m│\u001b[0m\n",
       "\u001b[31m│\u001b[0m \u001b[2;33m/home/jey/sync/devel/kausal-paths/nodes/actions/\u001b[0m\u001b[1;33mshift.py\u001b[0m:\u001b[94m113\u001b[0m in \u001b[92mclean\u001b[0m                            \u001b[31m│\u001b[0m\n",
       "\u001b[31m│\u001b[0m                                                                                                  \u001b[31m│\u001b[0m\n",
       "\u001b[31m│\u001b[0m   \u001b[2m110 \u001b[0m\u001b[2m│   \u001b[0m                                                                                       \u001b[31m│\u001b[0m\n",
       "\u001b[31m│\u001b[0m   \u001b[2m111 \u001b[0m\u001b[2m│   \u001b[0m\u001b[94mdef\u001b[0m \u001b[92mclean\u001b[0m(\u001b[96mself\u001b[0m, value: Any) -> ShiftParameterValue:                                    \u001b[31m│\u001b[0m\n",
       "\u001b[31m│\u001b[0m   \u001b[2m112 \u001b[0m\u001b[2m│   │   \u001b[0m\u001b[94mif\u001b[0m \u001b[95mnot\u001b[0m \u001b[96misinstance\u001b[0m(value, \u001b[96mlist\u001b[0m):                                                    \u001b[31m│\u001b[0m\n",
       "\u001b[31m│\u001b[0m \u001b[31m❱ \u001b[0m113 \u001b[2m│   │   │   \u001b[0m\u001b[94mraise\u001b[0m ValidationError(\u001b[96mself\u001b[0m, \u001b[33m\"\u001b[0m\u001b[33mInput must be a list\u001b[0m\u001b[33m\"\u001b[0m)                            \u001b[31m│\u001b[0m\n",
       "\u001b[31m│\u001b[0m   \u001b[2m114 \u001b[0m\u001b[2m│   │   \u001b[0m                                                                                   \u001b[31m│\u001b[0m\n",
       "\u001b[31m│\u001b[0m   \u001b[2m115 \u001b[0m\u001b[2m│   │   \u001b[0m\u001b[94mtry\u001b[0m:                                                                               \u001b[31m│\u001b[0m\n",
       "\u001b[31m│\u001b[0m   \u001b[2m116 \u001b[0m\u001b[2m│   │   │   \u001b[0m\u001b[94mreturn\u001b[0m ShiftParameterValue.model_validate(value)                               \u001b[31m│\u001b[0m\n",
       "\u001b[31m╰──────────────────────────────────────────────────────────────────────────────────────────────────╯\u001b[0m\n",
       "\u001b[1;91mValidationError: \u001b[0m\u001b[1m[\u001b[0mParam shift\u001b[1m]\u001b[0m: Parameter validation failed: Input must be a list\n"
      ]
     },
     "metadata": {},
     "output_type": "display_data"
    }
   ],
   "source": [
    "from functools import partial\n",
    "from typing import Callable\n",
    "import networkx as nx\n",
    "from scipy import optimize\n",
    "import yaml\n",
    "\n",
    "from nodes.constants import FORECAST_COLUMN\n",
    "if TYPE_CHECKING:\n",
    "    from nodes.actions.shift import ShiftAmount\n",
    "\n",
    "\n",
    "def compute_and_compare(vals: list[float], goal: pl.DataFrame, value_setters: list[Callable]):\n",
    "    # set parameters\n",
    "    for val, set_value in zip(vals, value_setters):\n",
    "        set_value(val)\n",
    "    df = outcome_node.compute().paths.to_wide(only_category_names=True).drop(FORECAST_COLUMN)\n",
    "    outcome = df.filter(pl.col('Year') == goal['Year'][0]).drop('Year')\n",
    "    diff = outcome - goal\n",
    "    m = [val ** 2 for val in diff.to_numpy()[0]]\n",
    "    return m\n",
    "\n",
    "\n",
    "def run(start_year: int, target_year: int):\n",
    "    target_year_goal = goal_df.filter(pl.col('Year') == target_year)\n",
    "\n",
    "    # Disable output caching for all nodes in \n",
    "    path_nodes = set()\n",
    "\n",
    "    x0 = []\n",
    "    value_setters = []\n",
    "    lower_bounds = []\n",
    "    upper_bounds = []\n",
    "    diff_steps = []\n",
    "\n",
    "    def set_source_value(start: ShiftAmount | None, end: ShiftAmount, new_val: float):\n",
    "        if start is not None:\n",
    "            start.source_amount = new_val\n",
    "        end.source_amount = new_val\n",
    "\n",
    "    def set_dest_value(start: ShiftAmount | None, end: ShiftAmount, idx: int, new_val: float):\n",
    "        if start is not None:\n",
    "            start.dest_amounts[idx] = new_val\n",
    "        end.dest_amounts[idx] = new_val\n",
    "\n",
    "    for act in act_nodes:\n",
    "        all_paths = list(nx.all_simple_paths(ctx.node_graph, source=act.id, target=outcome_node.id))\n",
    "        assert len(all_paths)\n",
    "        for path in all_paths:\n",
    "            path_nodes.update(path)\n",
    "\n",
    "        param = act.get_parameter('shift')\n",
    "        val: ShiftParameterValue = param.value.model_copy(deep=True)\n",
    "        param.value = val\n",
    "\n",
    "        # remove all the values after our start year\n",
    "        for entry in val.root:\n",
    "            entry.amounts = list(sorted([a for a in entry.amounts if a.year <= start_year], key=lambda x: x.year))\n",
    "            start = entry.amounts[-1]\n",
    "            if start.year != start_year:\n",
    "                start = entry.amounts[-1].model_copy()\n",
    "                start.year = start_year\n",
    "                entry.amounts.append(start)\n",
    "            end = start.model_copy(update=dict(year=target_year, deep=True))\n",
    "            entry.amounts.append(end)\n",
    "\n",
    "            x0.append(start.source_amount)\n",
    "            value_setters.append(partial(set_source_value, start, end))\n",
    "            if start.source_amount < 0:\n",
    "                lower_bounds.append(-100)\n",
    "                upper_bounds.append(0)\n",
    "            elif start.source_amount > 0:\n",
    "                lower_bounds.append(0)\n",
    "                upper_bounds.append(100)\n",
    "\n",
    "            diff_steps.append(0.01)\n",
    "            if len(start.dest_amounts) == 1:\n",
    "                continue\n",
    "            sum_amounts = sum(start.dest_amounts)\n",
    "            for idx, amount in enumerate(start.dest_amounts):\n",
    "                x0.append(amount)\n",
    "                value_setters.append(partial(set_dest_value, start, end, idx))\n",
    "                lower_bounds.append(0)\n",
    "                upper_bounds.append(sum_amounts)\n",
    "                diff_steps.append(0.1 * sum_amounts)\n",
    "\n",
    "    for node_id in path_nodes:\n",
    "        ctx.get_node(node_id).disable_cache = True\n",
    "\n",
    "    df = outcome_node.compute().paths.to_wide(only_category_names=True)\\\n",
    "        .drop(FORECAST_COLUMN).filter(pl.col(YEAR_COLUMN) == target_year)\\\n",
    "        .drop(YEAR_COLUMN)\n",
    "\n",
    "    print('start:\\n%s\\nlb:\\n%s\\nub:\\n%s\\n' % (x0, lower_bounds, upper_bounds))\n",
    "    print(target_year_goal)\n",
    "    with ctx.run():\n",
    "        res = optimize.least_squares(\n",
    "            compute_and_compare,\n",
    "            x0, bounds=[lower_bounds, upper_bounds],\n",
    "            max_nfev=500,\n",
    "            kwargs=dict(\n",
    "                goal=target_year_goal,\n",
    "                value_setters=value_setters,\n",
    "            )\n",
    "        )\n",
    "        #df = outcome_node.compute().paths.to_wide(only_category_names=True)\\\n",
    "        #    .drop(FORECAST_COLUMN).filter(pl.col(YEAR_COLUMN) == target_year)\\\n",
    "        #    .drop(YEAR_COLUMN)\n",
    "        #print(df)\n",
    "        #print(x0)\n",
    "        print([round(x, 2) for x in res.x])\n",
    "        for x, set_value in zip(res.x, value_setters):\n",
    "            set_value(round(float(x), 2))\n",
    "\n",
    "orig_values = []\n",
    "for act in act_nodes:\n",
    "    orig_values.append(act.get_parameter_value('shift'))\n",
    "\n",
    "last_hist_year: int = list(outcome_node.get_output_pl().filter(~pl.col(FORECAST_COLUMN))[YEAR_COLUMN])[-1]\n",
    "years = sorted(goal_df[YEAR_COLUMN])\n",
    "start_year = last_hist_year + 1\n",
    "try:\n",
    "    for year in years:\n",
    "        print(year)\n",
    "        run(start_year, year)\n",
    "        start_year = year + 1\n",
    "finally:\n",
    "    df = outcome_node.compute().paths.to_wide(only_category_names=True).filter(pl.col[FORECAST_COLUMN])\n",
    "\n",
    "    for act, orig_val in zip(act_nodes, orig_values):\n",
    "        val: ShiftParameterValue = act.get_parameter_value('shift')\n",
    "        act.set_parameter_value('shift', orig_val)\n",
    "        orig_data = orig_val.model_dump(exclude_none=False)\n",
    "        new_data = val.model_dump(exclude_none=False)\n",
    "        print('- id: %s\\n%s\\n->\\n%s\\n\\n' % (act.id, yaml.safe_dump(orig_data), yaml.safe_dump(new_data)))\n",
    "\n",
    "#ctx.node_graph"
   ]
  },
  {
   "cell_type": "code",
   "execution_count": null,
   "id": "d72a5224-950a-4bd1-974e-5523b868fdd8",
   "metadata": {},
   "outputs": [],
   "source": []
  }
 ],
 "metadata": {
  "kernelspec": {
   "display_name": "Python 3 (ipykernel)",
   "language": "python",
   "name": "python3"
  },
  "language_info": {
   "codemirror_mode": {
    "name": "ipython",
    "version": 3
   },
   "file_extension": ".py",
   "mimetype": "text/x-python",
   "name": "python",
   "nbconvert_exporter": "python",
   "pygments_lexer": "ipython3",
   "version": "3.11.6"
  }
 },
 "nbformat": 4,
 "nbformat_minor": 5
}
